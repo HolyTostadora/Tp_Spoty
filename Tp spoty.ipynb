{
 "cells": [
  {
   "cell_type": "markdown",
   "metadata": {},
   "source": [
    "## Facundo Jaime, Olivia Palomino y Miriam Schulklapper"
   ]
  },
  {
   "cell_type": "markdown",
   "metadata": {},
   "source": [
    "## Como no entendimos muy bien la cosnigna de entrega, te explicamos que hacen todas las lineas de codigo"
   ]
  },
  {
   "cell_type": "code",
   "execution_count": 2,
   "metadata": {},
   "outputs": [
    {
     "name": "stdout",
     "output_type": "stream",
     "text": [
      "Requirement already satisfied: pandas in c:\\users\\usuario\\appdata\\local\\packages\\pythonsoftwarefoundation.python.3.11_qbz5n2kfra8p0\\localcache\\local-packages\\python311\\site-packages (2.2.2)\n",
      "Requirement already satisfied: numpy>=1.23.2 in c:\\users\\usuario\\appdata\\local\\packages\\pythonsoftwarefoundation.python.3.11_qbz5n2kfra8p0\\localcache\\local-packages\\python311\\site-packages (from pandas) (1.26.4)\n",
      "Requirement already satisfied: python-dateutil>=2.8.2 in c:\\users\\usuario\\appdata\\local\\packages\\pythonsoftwarefoundation.python.3.11_qbz5n2kfra8p0\\localcache\\local-packages\\python311\\site-packages (from pandas) (2.9.0.post0)\n",
      "Requirement already satisfied: pytz>=2020.1 in c:\\users\\usuario\\appdata\\local\\packages\\pythonsoftwarefoundation.python.3.11_qbz5n2kfra8p0\\localcache\\local-packages\\python311\\site-packages (from pandas) (2024.1)\n",
      "Requirement already satisfied: tzdata>=2022.7 in c:\\users\\usuario\\appdata\\local\\packages\\pythonsoftwarefoundation.python.3.11_qbz5n2kfra8p0\\localcache\\local-packages\\python311\\site-packages (from pandas) (2024.1)\n",
      "Requirement already satisfied: six>=1.5 in c:\\users\\usuario\\appdata\\local\\packages\\pythonsoftwarefoundation.python.3.11_qbz5n2kfra8p0\\localcache\\local-packages\\python311\\site-packages (from python-dateutil>=2.8.2->pandas) (1.16.0)\n",
      "Note: you may need to restart the kernel to use updated packages.\n",
      "Requirement already satisfied: matplotlib in c:\\users\\usuario\\appdata\\local\\packages\\pythonsoftwarefoundation.python.3.11_qbz5n2kfra8p0\\localcache\\local-packages\\python311\\site-packages (3.9.0)\n",
      "Requirement already satisfied: contourpy>=1.0.1 in c:\\users\\usuario\\appdata\\local\\packages\\pythonsoftwarefoundation.python.3.11_qbz5n2kfra8p0\\localcache\\local-packages\\python311\\site-packages (from matplotlib) (1.2.1)\n",
      "Requirement already satisfied: cycler>=0.10 in c:\\users\\usuario\\appdata\\local\\packages\\pythonsoftwarefoundation.python.3.11_qbz5n2kfra8p0\\localcache\\local-packages\\python311\\site-packages (from matplotlib) (0.12.1)\n",
      "Requirement already satisfied: fonttools>=4.22.0 in c:\\users\\usuario\\appdata\\local\\packages\\pythonsoftwarefoundation.python.3.11_qbz5n2kfra8p0\\localcache\\local-packages\\python311\\site-packages (from matplotlib) (4.51.0)\n",
      "Requirement already satisfied: kiwisolver>=1.3.1 in c:\\users\\usuario\\appdata\\local\\packages\\pythonsoftwarefoundation.python.3.11_qbz5n2kfra8p0\\localcache\\local-packages\\python311\\site-packages (from matplotlib) (1.4.5)\n",
      "Requirement already satisfied: numpy>=1.23 in c:\\users\\usuario\\appdata\\local\\packages\\pythonsoftwarefoundation.python.3.11_qbz5n2kfra8p0\\localcache\\local-packages\\python311\\site-packages (from matplotlib) (1.26.4)\n",
      "Requirement already satisfied: packaging>=20.0 in c:\\users\\usuario\\appdata\\local\\packages\\pythonsoftwarefoundation.python.3.11_qbz5n2kfra8p0\\localcache\\local-packages\\python311\\site-packages (from matplotlib) (24.0)\n",
      "Requirement already satisfied: pillow>=8 in c:\\users\\usuario\\appdata\\local\\packages\\pythonsoftwarefoundation.python.3.11_qbz5n2kfra8p0\\localcache\\local-packages\\python311\\site-packages (from matplotlib) (10.3.0)\n",
      "Requirement already satisfied: pyparsing>=2.3.1 in c:\\users\\usuario\\appdata\\local\\packages\\pythonsoftwarefoundation.python.3.11_qbz5n2kfra8p0\\localcache\\local-packages\\python311\\site-packages (from matplotlib) (3.1.2)\n",
      "Requirement already satisfied: python-dateutil>=2.7 in c:\\users\\usuario\\appdata\\local\\packages\\pythonsoftwarefoundation.python.3.11_qbz5n2kfra8p0\\localcache\\local-packages\\python311\\site-packages (from matplotlib) (2.9.0.post0)\n",
      "Requirement already satisfied: six>=1.5 in c:\\users\\usuario\\appdata\\local\\packages\\pythonsoftwarefoundation.python.3.11_qbz5n2kfra8p0\\localcache\\local-packages\\python311\\site-packages (from python-dateutil>=2.7->matplotlib) (1.16.0)\n",
      "Note: you may need to restart the kernel to use updated packages.\n"
     ]
    }
   ],
   "source": [
    "%pip install pandas\n",
    "%pip install matplotlib\n"
   ]
  },
  {
   "cell_type": "code",
   "execution_count": 3,
   "metadata": {},
   "outputs": [],
   "source": [
    "import pandas as pd\n",
    "import matplotlib.pyplot as plt"
   ]
  },
  {
   "cell_type": "code",
   "execution_count": 4,
   "metadata": {},
   "outputs": [
    {
     "name": "stderr",
     "output_type": "stream",
     "text": [
      "C:\\Users\\Usuario\\AppData\\Local\\Temp\\ipykernel_1732\\2368300940.py:3: DtypeWarning: Columns (16) have mixed types. Specify dtype option on import or set low_memory=False.\n",
      "  spoty : pd.DataFrame = pd.read_csv(archivo)\n"
     ]
    },
    {
     "data": {
      "text/html": [
       "<div>\n",
       "<style scoped>\n",
       "    .dataframe tbody tr th:only-of-type {\n",
       "        vertical-align: middle;\n",
       "    }\n",
       "\n",
       "    .dataframe tbody tr th {\n",
       "        vertical-align: top;\n",
       "    }\n",
       "\n",
       "    .dataframe thead th {\n",
       "        text-align: right;\n",
       "    }\n",
       "</style>\n",
       "<table border=\"1\" class=\"dataframe\">\n",
       "  <thead>\n",
       "    <tr style=\"text-align: right;\">\n",
       "      <th></th>\n",
       "      <th>ts</th>\n",
       "      <th>username</th>\n",
       "      <th>platform</th>\n",
       "      <th>ms_played</th>\n",
       "      <th>conn_country</th>\n",
       "      <th>user_agent_decrypted</th>\n",
       "      <th>master_metadata_track_name</th>\n",
       "      <th>master_metadata_album_artist_name</th>\n",
       "      <th>master_metadata_album_album_name</th>\n",
       "      <th>spotify_track_uri</th>\n",
       "      <th>episode_name</th>\n",
       "      <th>episode_show_name</th>\n",
       "      <th>spotify_episode_uri</th>\n",
       "      <th>reason_start</th>\n",
       "      <th>reason_end</th>\n",
       "      <th>shuffle</th>\n",
       "      <th>skipped</th>\n",
       "      <th>offline</th>\n",
       "      <th>offline_timestamp</th>\n",
       "      <th>is_podcast</th>\n",
       "    </tr>\n",
       "  </thead>\n",
       "  <tbody>\n",
       "    <tr>\n",
       "      <th>0</th>\n",
       "      <td>2020-12-06T02:51:11Z</td>\n",
       "      <td>11145402699</td>\n",
       "      <td>iOS 14.2 (iPhone12,3)</td>\n",
       "      <td>145610</td>\n",
       "      <td>AR</td>\n",
       "      <td>unknown</td>\n",
       "      <td>Hey Jude - Remastered 2015</td>\n",
       "      <td>The Beatles</td>\n",
       "      <td>1</td>\n",
       "      <td>spotify:track:0aym2LBJBk9DAYuHHutrIl</td>\n",
       "      <td>NaN</td>\n",
       "      <td>NaN</td>\n",
       "      <td>NaN</td>\n",
       "      <td>trackdone</td>\n",
       "      <td>fwdbtn</td>\n",
       "      <td>True</td>\n",
       "      <td>NaN</td>\n",
       "      <td>False</td>\n",
       "      <td>1607222710755</td>\n",
       "      <td>False</td>\n",
       "    </tr>\n",
       "    <tr>\n",
       "      <th>1</th>\n",
       "      <td>2020-12-06T02:53:31Z</td>\n",
       "      <td>11145402699</td>\n",
       "      <td>iOS 14.2 (iPhone12,3)</td>\n",
       "      <td>138692</td>\n",
       "      <td>AR</td>\n",
       "      <td>unknown</td>\n",
       "      <td>Hacer un puente</td>\n",
       "      <td>La Franela</td>\n",
       "      <td>Hacer Un Puente</td>\n",
       "      <td>spotify:track:18Q3WTfyWX1tdS1cp42NhA</td>\n",
       "      <td>NaN</td>\n",
       "      <td>NaN</td>\n",
       "      <td>NaN</td>\n",
       "      <td>fwdbtn</td>\n",
       "      <td>fwdbtn</td>\n",
       "      <td>True</td>\n",
       "      <td>NaN</td>\n",
       "      <td>False</td>\n",
       "      <td>1607223071185</td>\n",
       "      <td>False</td>\n",
       "    </tr>\n",
       "    <tr>\n",
       "      <th>2</th>\n",
       "      <td>2020-12-06T02:53:53Z</td>\n",
       "      <td>11145402699</td>\n",
       "      <td>iOS 14.2 (iPhone12,3)</td>\n",
       "      <td>22662</td>\n",
       "      <td>AR</td>\n",
       "      <td>unknown</td>\n",
       "      <td>Happy Together - Remastered</td>\n",
       "      <td>The Turtles</td>\n",
       "      <td>All the Singles</td>\n",
       "      <td>spotify:track:2admbUc576sC6M0QeUkg2C</td>\n",
       "      <td>NaN</td>\n",
       "      <td>NaN</td>\n",
       "      <td>NaN</td>\n",
       "      <td>fwdbtn</td>\n",
       "      <td>fwdbtn</td>\n",
       "      <td>True</td>\n",
       "      <td>NaN</td>\n",
       "      <td>False</td>\n",
       "      <td>1607223210387</td>\n",
       "      <td>False</td>\n",
       "    </tr>\n",
       "    <tr>\n",
       "      <th>3</th>\n",
       "      <td>2020-12-06T02:53:56Z</td>\n",
       "      <td>11145402699</td>\n",
       "      <td>iOS 14.2 (iPhone12,3)</td>\n",
       "      <td>2716</td>\n",
       "      <td>AR</td>\n",
       "      <td>unknown</td>\n",
       "      <td>Demons</td>\n",
       "      <td>Imagine Dragons</td>\n",
       "      <td>Night Visions</td>\n",
       "      <td>spotify:track:5qaEfEh1AtSdrdrByCP7qR</td>\n",
       "      <td>NaN</td>\n",
       "      <td>NaN</td>\n",
       "      <td>NaN</td>\n",
       "      <td>fwdbtn</td>\n",
       "      <td>fwdbtn</td>\n",
       "      <td>True</td>\n",
       "      <td>NaN</td>\n",
       "      <td>False</td>\n",
       "      <td>1607223233165</td>\n",
       "      <td>False</td>\n",
       "    </tr>\n",
       "    <tr>\n",
       "      <th>4</th>\n",
       "      <td>2020-12-06T02:53:57Z</td>\n",
       "      <td>11145402699</td>\n",
       "      <td>iOS 14.2 (iPhone12,3)</td>\n",
       "      <td>116</td>\n",
       "      <td>AR</td>\n",
       "      <td>unknown</td>\n",
       "      <td>Paint It, Black</td>\n",
       "      <td>The Rolling Stones</td>\n",
       "      <td>Aftermath</td>\n",
       "      <td>spotify:track:63T7DJ1AFDD6Bn8VzG6JE8</td>\n",
       "      <td>NaN</td>\n",
       "      <td>NaN</td>\n",
       "      <td>NaN</td>\n",
       "      <td>fwdbtn</td>\n",
       "      <td>fwdbtn</td>\n",
       "      <td>True</td>\n",
       "      <td>NaN</td>\n",
       "      <td>False</td>\n",
       "      <td>1607223236453</td>\n",
       "      <td>False</td>\n",
       "    </tr>\n",
       "    <tr>\n",
       "      <th>...</th>\n",
       "      <td>...</td>\n",
       "      <td>...</td>\n",
       "      <td>...</td>\n",
       "      <td>...</td>\n",
       "      <td>...</td>\n",
       "      <td>...</td>\n",
       "      <td>...</td>\n",
       "      <td>...</td>\n",
       "      <td>...</td>\n",
       "      <td>...</td>\n",
       "      <td>...</td>\n",
       "      <td>...</td>\n",
       "      <td>...</td>\n",
       "      <td>...</td>\n",
       "      <td>...</td>\n",
       "      <td>...</td>\n",
       "      <td>...</td>\n",
       "      <td>...</td>\n",
       "      <td>...</td>\n",
       "      <td>...</td>\n",
       "    </tr>\n",
       "    <tr>\n",
       "      <th>125344</th>\n",
       "      <td>2018-10-05T22:44:53Z</td>\n",
       "      <td>11145402699</td>\n",
       "      <td>iOS 12.0 (iPhone8,1)</td>\n",
       "      <td>1365</td>\n",
       "      <td>AR</td>\n",
       "      <td>unknown</td>\n",
       "      <td>Gente Que No Sabe Lo Que Quiere</td>\n",
       "      <td>Litto Nebbia</td>\n",
       "      <td>Solo Se Trata de Vivir / Solopiano Vol. 1</td>\n",
       "      <td>spotify:track:3u8sP95YHOsYwRQfms6kgc</td>\n",
       "      <td>NaN</td>\n",
       "      <td>NaN</td>\n",
       "      <td>NaN</td>\n",
       "      <td>fwdbtn</td>\n",
       "      <td>fwdbtn</td>\n",
       "      <td>False</td>\n",
       "      <td>NaN</td>\n",
       "      <td>False</td>\n",
       "      <td>1538779491211</td>\n",
       "      <td>False</td>\n",
       "    </tr>\n",
       "    <tr>\n",
       "      <th>125345</th>\n",
       "      <td>2018-10-05T22:44:54Z</td>\n",
       "      <td>11145402699</td>\n",
       "      <td>iOS 12.0 (iPhone8,1)</td>\n",
       "      <td>1344</td>\n",
       "      <td>AR</td>\n",
       "      <td>unknown</td>\n",
       "      <td>11 Y 6</td>\n",
       "      <td>Fito Paez</td>\n",
       "      <td>Giros</td>\n",
       "      <td>spotify:track:2PkTjm1QAJCZbJ9MqC4RqA</td>\n",
       "      <td>NaN</td>\n",
       "      <td>NaN</td>\n",
       "      <td>NaN</td>\n",
       "      <td>fwdbtn</td>\n",
       "      <td>fwdbtn</td>\n",
       "      <td>False</td>\n",
       "      <td>NaN</td>\n",
       "      <td>False</td>\n",
       "      <td>1538779492740</td>\n",
       "      <td>False</td>\n",
       "    </tr>\n",
       "    <tr>\n",
       "      <th>125346</th>\n",
       "      <td>2018-10-05T22:44:55Z</td>\n",
       "      <td>11145402699</td>\n",
       "      <td>iOS 12.0 (iPhone8,1)</td>\n",
       "      <td>832</td>\n",
       "      <td>AR</td>\n",
       "      <td>unknown</td>\n",
       "      <td>Mientes</td>\n",
       "      <td>Charly García</td>\n",
       "      <td>Tango 4</td>\n",
       "      <td>spotify:track:670dXRMKr9vVtGk01dYeSr</td>\n",
       "      <td>NaN</td>\n",
       "      <td>NaN</td>\n",
       "      <td>NaN</td>\n",
       "      <td>fwdbtn</td>\n",
       "      <td>fwdbtn</td>\n",
       "      <td>False</td>\n",
       "      <td>NaN</td>\n",
       "      <td>False</td>\n",
       "      <td>1538779494205</td>\n",
       "      <td>False</td>\n",
       "    </tr>\n",
       "    <tr>\n",
       "      <th>125347</th>\n",
       "      <td>2018-10-05T22:44:56Z</td>\n",
       "      <td>11145402699</td>\n",
       "      <td>iOS 12.0 (iPhone8,1)</td>\n",
       "      <td>1194</td>\n",
       "      <td>AR</td>\n",
       "      <td>unknown</td>\n",
       "      <td>Apostar al Amor</td>\n",
       "      <td>Los Tipitos</td>\n",
       "      <td>Push</td>\n",
       "      <td>spotify:track:6PyBNCpOX5uOjKDNjNNgjq</td>\n",
       "      <td>NaN</td>\n",
       "      <td>NaN</td>\n",
       "      <td>NaN</td>\n",
       "      <td>fwdbtn</td>\n",
       "      <td>fwdbtn</td>\n",
       "      <td>False</td>\n",
       "      <td>NaN</td>\n",
       "      <td>False</td>\n",
       "      <td>1538779495059</td>\n",
       "      <td>False</td>\n",
       "    </tr>\n",
       "    <tr>\n",
       "      <th>125348</th>\n",
       "      <td>2018-10-05T22:44:58Z</td>\n",
       "      <td>11145402699</td>\n",
       "      <td>iOS 12.0 (iPhone8,1)</td>\n",
       "      <td>85</td>\n",
       "      <td>AR</td>\n",
       "      <td>unknown</td>\n",
       "      <td>El Palomo</td>\n",
       "      <td>Kevin Johansen</td>\n",
       "      <td>Kevin Johansen + The Nada + Liniers: Vivo En B...</td>\n",
       "      <td>spotify:track:5773XHHdECHO8d5BMWjtIS</td>\n",
       "      <td>NaN</td>\n",
       "      <td>NaN</td>\n",
       "      <td>NaN</td>\n",
       "      <td>fwdbtn</td>\n",
       "      <td>fwdbtn</td>\n",
       "      <td>False</td>\n",
       "      <td>NaN</td>\n",
       "      <td>False</td>\n",
       "      <td>1538779496312</td>\n",
       "      <td>False</td>\n",
       "    </tr>\n",
       "  </tbody>\n",
       "</table>\n",
       "<p>125349 rows × 20 columns</p>\n",
       "</div>"
      ],
      "text/plain": [
       "                          ts     username               platform  ms_played  \\\n",
       "0       2020-12-06T02:51:11Z  11145402699  iOS 14.2 (iPhone12,3)     145610   \n",
       "1       2020-12-06T02:53:31Z  11145402699  iOS 14.2 (iPhone12,3)     138692   \n",
       "2       2020-12-06T02:53:53Z  11145402699  iOS 14.2 (iPhone12,3)      22662   \n",
       "3       2020-12-06T02:53:56Z  11145402699  iOS 14.2 (iPhone12,3)       2716   \n",
       "4       2020-12-06T02:53:57Z  11145402699  iOS 14.2 (iPhone12,3)        116   \n",
       "...                      ...          ...                    ...        ...   \n",
       "125344  2018-10-05T22:44:53Z  11145402699   iOS 12.0 (iPhone8,1)       1365   \n",
       "125345  2018-10-05T22:44:54Z  11145402699   iOS 12.0 (iPhone8,1)       1344   \n",
       "125346  2018-10-05T22:44:55Z  11145402699   iOS 12.0 (iPhone8,1)        832   \n",
       "125347  2018-10-05T22:44:56Z  11145402699   iOS 12.0 (iPhone8,1)       1194   \n",
       "125348  2018-10-05T22:44:58Z  11145402699   iOS 12.0 (iPhone8,1)         85   \n",
       "\n",
       "       conn_country user_agent_decrypted       master_metadata_track_name  \\\n",
       "0                AR              unknown       Hey Jude - Remastered 2015   \n",
       "1                AR              unknown                  Hacer un puente   \n",
       "2                AR              unknown      Happy Together - Remastered   \n",
       "3                AR              unknown                           Demons   \n",
       "4                AR              unknown                  Paint It, Black   \n",
       "...             ...                  ...                              ...   \n",
       "125344           AR              unknown  Gente Que No Sabe Lo Que Quiere   \n",
       "125345           AR              unknown                           11 Y 6   \n",
       "125346           AR              unknown                          Mientes   \n",
       "125347           AR              unknown                  Apostar al Amor   \n",
       "125348           AR              unknown                        El Palomo   \n",
       "\n",
       "       master_metadata_album_artist_name  \\\n",
       "0                            The Beatles   \n",
       "1                             La Franela   \n",
       "2                            The Turtles   \n",
       "3                        Imagine Dragons   \n",
       "4                     The Rolling Stones   \n",
       "...                                  ...   \n",
       "125344                      Litto Nebbia   \n",
       "125345                         Fito Paez   \n",
       "125346                     Charly García   \n",
       "125347                       Los Tipitos   \n",
       "125348                    Kevin Johansen   \n",
       "\n",
       "                         master_metadata_album_album_name  \\\n",
       "0                                                       1   \n",
       "1                                         Hacer Un Puente   \n",
       "2                                         All the Singles   \n",
       "3                                           Night Visions   \n",
       "4                                               Aftermath   \n",
       "...                                                   ...   \n",
       "125344          Solo Se Trata de Vivir / Solopiano Vol. 1   \n",
       "125345                                              Giros   \n",
       "125346                                            Tango 4   \n",
       "125347                                               Push   \n",
       "125348  Kevin Johansen + The Nada + Liniers: Vivo En B...   \n",
       "\n",
       "                           spotify_track_uri episode_name episode_show_name  \\\n",
       "0       spotify:track:0aym2LBJBk9DAYuHHutrIl          NaN               NaN   \n",
       "1       spotify:track:18Q3WTfyWX1tdS1cp42NhA          NaN               NaN   \n",
       "2       spotify:track:2admbUc576sC6M0QeUkg2C          NaN               NaN   \n",
       "3       spotify:track:5qaEfEh1AtSdrdrByCP7qR          NaN               NaN   \n",
       "4       spotify:track:63T7DJ1AFDD6Bn8VzG6JE8          NaN               NaN   \n",
       "...                                      ...          ...               ...   \n",
       "125344  spotify:track:3u8sP95YHOsYwRQfms6kgc          NaN               NaN   \n",
       "125345  spotify:track:2PkTjm1QAJCZbJ9MqC4RqA          NaN               NaN   \n",
       "125346  spotify:track:670dXRMKr9vVtGk01dYeSr          NaN               NaN   \n",
       "125347  spotify:track:6PyBNCpOX5uOjKDNjNNgjq          NaN               NaN   \n",
       "125348  spotify:track:5773XHHdECHO8d5BMWjtIS          NaN               NaN   \n",
       "\n",
       "       spotify_episode_uri reason_start reason_end  shuffle skipped  offline  \\\n",
       "0                      NaN    trackdone     fwdbtn     True     NaN    False   \n",
       "1                      NaN       fwdbtn     fwdbtn     True     NaN    False   \n",
       "2                      NaN       fwdbtn     fwdbtn     True     NaN    False   \n",
       "3                      NaN       fwdbtn     fwdbtn     True     NaN    False   \n",
       "4                      NaN       fwdbtn     fwdbtn     True     NaN    False   \n",
       "...                    ...          ...        ...      ...     ...      ...   \n",
       "125344                 NaN       fwdbtn     fwdbtn    False     NaN    False   \n",
       "125345                 NaN       fwdbtn     fwdbtn    False     NaN    False   \n",
       "125346                 NaN       fwdbtn     fwdbtn    False     NaN    False   \n",
       "125347                 NaN       fwdbtn     fwdbtn    False     NaN    False   \n",
       "125348                 NaN       fwdbtn     fwdbtn    False     NaN    False   \n",
       "\n",
       "        offline_timestamp  is_podcast  \n",
       "0           1607222710755       False  \n",
       "1           1607223071185       False  \n",
       "2           1607223210387       False  \n",
       "3           1607223233165       False  \n",
       "4           1607223236453       False  \n",
       "...                   ...         ...  \n",
       "125344      1538779491211       False  \n",
       "125345      1538779492740       False  \n",
       "125346      1538779494205       False  \n",
       "125347      1538779495059       False  \n",
       "125348      1538779496312       False  \n",
       "\n",
       "[125349 rows x 20 columns]"
      ]
     },
     "execution_count": 4,
     "metadata": {},
     "output_type": "execute_result"
    }
   ],
   "source": [
    "# archivo = \"https://raw.githubusercontent.com/IgnacioPardo/Tecnologias_Exponenciales_2024/main/TP_Spotify/StreamingHistory_Extended.csv\"\n",
    "archivo = \"StreamingHistory_Extended.csv\"\n",
    "spoty : pd.DataFrame = pd.read_csv(archivo)\n",
    "spoty"
   ]
  },
  {
   "cell_type": "code",
   "execution_count": 5,
   "metadata": {},
   "outputs": [
    {
     "name": "stdout",
     "output_type": "stream",
     "text": [
      "<class 'pandas.core.frame.DataFrame'>\n",
      "RangeIndex: 125349 entries, 0 to 125348\n",
      "Data columns (total 20 columns):\n",
      " #   Column                             Non-Null Count   Dtype \n",
      "---  ------                             --------------   ----- \n",
      " 0   ts                                 125349 non-null  object\n",
      " 1   username                           125349 non-null  int64 \n",
      " 2   platform                           125349 non-null  object\n",
      " 3   ms_played                          125349 non-null  int64 \n",
      " 4   conn_country                       125349 non-null  object\n",
      " 5   user_agent_decrypted               104897 non-null  object\n",
      " 6   master_metadata_track_name         123953 non-null  object\n",
      " 7   master_metadata_album_artist_name  123953 non-null  object\n",
      " 8   master_metadata_album_album_name   123953 non-null  object\n",
      " 9   spotify_track_uri                  123953 non-null  object\n",
      " 10  episode_name                       168 non-null     object\n",
      " 11  episode_show_name                  168 non-null     object\n",
      " 12  spotify_episode_uri                168 non-null     object\n",
      " 13  reason_start                       125344 non-null  object\n",
      " 14  reason_end                         105739 non-null  object\n",
      " 15  shuffle                            125349 non-null  bool  \n",
      " 16  skipped                            16354 non-null   object\n",
      " 17  offline                            125349 non-null  bool  \n",
      " 18  offline_timestamp                  125349 non-null  int64 \n",
      " 19  is_podcast                         125349 non-null  bool  \n",
      "dtypes: bool(3), int64(3), object(14)\n",
      "memory usage: 16.6+ MB\n"
     ]
    }
   ],
   "source": [
    "#  1.\n",
    "# ¿Que información contiene el dataset? Describir las columnas y los tipos de datos.\n",
    "# Pista: ¿Son todas las columnas necesarias para el análisis? ¿Son todos los registros del mismo tipo?\n",
    "\n",
    "spoty.info()\n",
    "\n",
    "# La columna TS contiene la fecha en un formato que puede ser interpretada por DATETIME y sirve para resolver 3 de los bonus y alguno de los ejercicios\n",
    "\n",
    "# La columna PLATFORM dice en que dispositivos se reprodujo musica, nos sirvió para un ejercicio que creamos nosotros\n",
    "\n",
    "# La columna MS_PLAYED nos idnica cuantos milisegundos de musica se escuchó, nos sirvió en casi todos los ejercicios\n",
    "\n",
    "# ..._ARTIST_NAME contiene el nombre de los artistas, que usamos para ser capaces de saber quien creo ciertas canciones, ..._ALBUM_NAME, para saber los albumes de cada canción, ..._TRACK_NAME para saber el nombre de las canciones\n",
    "\n",
    "# SPOTIFY_TRACK_URI es el identificador de cada cancion que no puede ser repetido (es como la primary key en base de datos)"
   ]
  },
  {
   "cell_type": "code",
   "execution_count": 6,
   "metadata": {},
   "outputs": [
    {
     "name": "stdout",
     "output_type": "stream",
     "text": [
      "Se registran reproducciones desde 2014-06-27 18:01:15+00:00 hasta 2024-05-23 23:56:20+00:00\n"
     ]
    }
   ],
   "source": [
    "#  2.\n",
    "# ¿A partir de que fecha se registraron las reproducciones? ¿Hasta que fecha?\n",
    "\n",
    "# Usamos datetime para interpretar la fecha \n",
    "fecha_rep = pd.to_datetime( spoty[\"ts\"] )\n",
    "\n",
    "#Nos fijamos el max y el min para saber cual fue el primer y ultimo registro\n",
    "print(\"Se registran reproducciones desde\", fecha_rep.min() , \"hasta\", fecha_rep.max())\n",
    "\n"
   ]
  },
  {
   "cell_type": "code",
   "execution_count": 7,
   "metadata": {},
   "outputs": [
    {
     "data": {
      "text/plain": [
       "11556"
      ]
     },
     "execution_count": 7,
     "metadata": {},
     "output_type": "execute_result"
    }
   ],
   "source": [
    "#  3.\n",
    "# ¿Cuántas canciones diferentes se escucharon en total?\n",
    "\n",
    "# Agrupamos por URI para saber cuantas canciones diferentes se escucharon y luego calculamos la longitud de la agrupáción (la longitud será la cantidad de canciones escuchadas, ya que previamente se filtró para que no haya repeticiones)\n",
    "nombre_group = spoty.groupby(\"spotify_track_uri\")\n",
    "\n",
    "len (nombre_group)\n"
   ]
  },
  {
   "cell_type": "code",
   "execution_count": 8,
   "metadata": {},
   "outputs": [
    {
     "data": {
      "text/plain": [
       "spotify_track_uri\n",
       "spotify:track:001b8XFtRhhFrMbWROVgO4    5.142217\n",
       "spotify:track:008YILXYfsMa2KuPY8bBtl    2.832267\n",
       "spotify:track:009s8MccQSXM4pAQwsP59s    0.072883\n",
       "spotify:track:00DiMUseXsW3L8eR8G8xOa    0.034633\n",
       "spotify:track:00GOPLxW4PGQuUYdPJh8K1    3.023433\n",
       "                                          ...   \n",
       "spotify:track:7zoQhAYWNKRyARI7xPnJW1    0.566583\n",
       "spotify:track:7zrpoAJte9o12TzawqgdD0    0.007933\n",
       "spotify:track:7zsgBOY20sX0Z8L4RTdU3Y    0.611650\n",
       "spotify:track:7zvKFw17XyoBUx9mHiwzPy    5.505983\n",
       "spotify:track:7zx1i0jGcFwMBurajgKlO7    0.040883\n",
       "Name: ms_played, Length: 11556, dtype: float64"
      ]
     },
     "execution_count": 8,
     "metadata": {},
     "output_type": "execute_result"
    }
   ],
   "source": [
    "#  4.\n",
    "# ¿Cuánto es la duración total de las reproducciones de canciones registradas? Pista: ¿Alguna columna del dataset indica la duración de la reproducción?\n",
    "\n",
    "# Agrupamos por URI y luego sumamos los valores de MS_PLAYED para saber cuanto se reprodujo cada canción (dividimos por 1000 para pasar a Segs y por 60 para pasar a Mins) \n",
    "nombre_group = spoty.groupby(\"spotify_track_uri\")\n",
    "T_rep =  nombre_group['ms_played'].sum()/60000\n",
    "T_rep\n",
    "\n"
   ]
  },
  {
   "cell_type": "code",
   "execution_count": 9,
   "metadata": {},
   "outputs": [
    {
     "data": {
      "text/plain": [
       "'Charly García'"
      ]
     },
     "execution_count": 9,
     "metadata": {},
     "output_type": "execute_result"
    }
   ],
   "source": [
    "#  5. \n",
    "# ¿Cuál es el artista más escuchado por tiempo total de reproducción?\n",
    "\n",
    "# Agrupamos por artista y  sumamos los milisegundos que se reprodujeron todas las canciones de cada artista. Luego los ordenamos de mayor a menor y agarramos solo el primero (que será el mayor de todos)\n",
    "art_group = spoty.groupby ('master_metadata_album_artist_name')\n",
    "T_art_group = art_group['ms_played'].sum().sort_values (ascending=False).head(1)\n",
    "T_art_group\n"
   ]
  },
  {
   "cell_type": "code",
   "execution_count": 10,
   "metadata": {},
   "outputs": [
    {
     "data": {
      "text/html": [
       "<div>\n",
       "<style scoped>\n",
       "    .dataframe tbody tr th:only-of-type {\n",
       "        vertical-align: middle;\n",
       "    }\n",
       "\n",
       "    .dataframe tbody tr th {\n",
       "        vertical-align: top;\n",
       "    }\n",
       "\n",
       "    .dataframe thead th {\n",
       "        text-align: right;\n",
       "    }\n",
       "</style>\n",
       "<table border=\"1\" class=\"dataframe\">\n",
       "  <thead>\n",
       "    <tr style=\"text-align: right;\">\n",
       "      <th></th>\n",
       "      <th>ms_played</th>\n",
       "      <th>master_metadata_track_name</th>\n",
       "      <th>master_metadata_album_artist_name</th>\n",
       "    </tr>\n",
       "    <tr>\n",
       "      <th>spotify_track_uri</th>\n",
       "      <th></th>\n",
       "      <th></th>\n",
       "      <th></th>\n",
       "    </tr>\n",
       "  </thead>\n",
       "  <tbody>\n",
       "    <tr>\n",
       "      <th>spotify:track:0wXuerDYiBnERgIpbb3JBR</th>\n",
       "      <td>56637046</td>\n",
       "      <td>[Redbone]</td>\n",
       "      <td>[Childish Gambino]</td>\n",
       "    </tr>\n",
       "  </tbody>\n",
       "</table>\n",
       "</div>"
      ],
      "text/plain": [
       "                                      ms_played master_metadata_track_name  \\\n",
       "spotify_track_uri                                                            \n",
       "spotify:track:0wXuerDYiBnERgIpbb3JBR   56637046                  [Redbone]   \n",
       "\n",
       "                                     master_metadata_album_artist_name  \n",
       "spotify_track_uri                                                       \n",
       "spotify:track:0wXuerDYiBnERgIpbb3JBR                [Childish Gambino]  "
      ]
     },
     "metadata": {},
     "output_type": "display_data"
    }
   ],
   "source": [
    "#  6.\n",
    "# ¿Cuál es la canción más escuchada por tiempo total de reproducción?\n",
    "\n",
    "# Agrupamos por URI y luego le agregamos con la funcion .AGG los milisegundos (los sumamos con sum) y el nombre de la cancion y del artista (usamos unique para que nos devuelva unicamente los valores )\n",
    "can_group = spoty.groupby('spotify_track_uri').agg({'ms_played': 'sum','master_metadata_track_name': 'unique', 'master_metadata_album_artist_name' : 'unique'})\n",
    "\n",
    "#mostramos por pantalla la cancion más escuchada, ordenando por MS_PLAYED, filtrando de + a - y agarrando el primero\n",
    "display (can_group.sort_values(by= 'ms_played', ascending=False).head(1))\n",
    "\n"
   ]
  },
  {
   "cell_type": "code",
   "execution_count": 11,
   "metadata": {},
   "outputs": [
    {
     "name": "stdout",
     "output_type": "stream",
     "text": [
      "La canción más escuchada del artista más escuchado ( Charly García ) es Hablando a Tu Corazón\n"
     ]
    }
   ],
   "source": [
    "#  7.\n",
    "# Del artista más escuchado (por tiempo reproducido), ¿cuál es la canción más escuchada?\n",
    "\n",
    "# Agrupamos por URI, sumamos el tiempo escuchado y agarramos el más escuchado\n",
    "art_group = spoty.groupby ('master_metadata_album_artist_name')['ms_played'].sum().sort_values (ascending=False).head(1)\n",
    "\n",
    "# Agarramos el indice de la agrupación de arriba y lo guardamos en una variable (el indice de los groupby es los valores de la columna por la cual se esta agrupando, como arriba se agrupó por artista, el indice pasa a ser los nombres de los artistas)\n",
    "art_mas_escuchado = art_group.index[0]\n",
    "\n",
    "# Creamos un dataframe que contenga solamente las filas donde el artista es igual al valor conseguido en la linea de arriba\n",
    "canciones_artista = spoty[spoty['master_metadata_album_artist_name'] == art_mas_escuchado]\n",
    "\n",
    "# Agrupamos por nombre las canciones más escuchadas de nuestro nuevo dataframe, sumamos los milisegundos escuchados y agarramos la más escuchada\n",
    "cancion_mas_escuchada = canciones_artista.groupby('master_metadata_track_name')['ms_played'].sum().sort_values(ascending=False).head(1)\n",
    "\n",
    "# Aca en el print formamos la oracion que contiene el numero que conseguimos arriba (cuanto se escuchó a la cancion más escuchada) y decimos el artista que la escribió (el indice de la agrupación, como hicimos y explicamos arriba)\n",
    "print (\"La canción más escuchada del artista más escuchado (\",art_mas_escuchado,\") es\",cancion_mas_escuchada.index[0])\n",
    "\n",
    "\n"
   ]
  },
  {
   "cell_type": "code",
   "execution_count": 12,
   "metadata": {},
   "outputs": [
    {
     "data": {
      "image/png": "[encoded data removed]",
      "text/plain": [
       "<Figure size 640x480 with 1 Axes>"
      ]
     },
     "metadata": {},
     "output_type": "display_data"
    }
   ],
   "source": [
    "#  8.\n",
    "# Determinar el top 10 de artistas más escuchados . Elegir un tipo de gráfico adecuado para visualizar los resultados.\n",
    "\n",
    "# Agrupamos por artistas y sumamos la cantidad de milisegundos que se escuho a cada uno (dividimos por 1000 para tener segundos y por 3600 para obtener horas)\n",
    "art_group = spoty.groupby ('master_metadata_album_artist_name')['ms_played'].sum()/3600000\n",
    "\n",
    "# Creamos un grafico de barras (el que nos pareció más adecuado)  que contiene los 10 artistas más escuchados y le damos un nombre al eje Y (solo para estetica, los valores del cuadro no cambian)\n",
    "my_plot = art_group.sort_values (ascending=False).head(10).plot(kind='bar').set_ylabel('horas escuchadas')\n",
    "\n"
   ]
  },
  {
   "cell_type": "code",
   "execution_count": 13,
   "metadata": {},
   "outputs": [
    {
     "data": {
      "image/png": "[encoded data removed]",
      "text/plain": [
       "<Figure size 640x480 with 1 Axes>"
      ]
     },
     "metadata": {},
     "output_type": "display_data"
    }
   ],
   "source": [
    "#  9.\n",
    "# Determinar el top 10 de canciones más escuchadas. Elegir un tipo de gráfico adecuado para visualizar los resultados.    \n",
    "\n",
    "# Agrupamos por URI y agregamos los milisegundos escuchados (aca usamos una funcion lambda, que ssu utilidad es que se puede definir en una sola linea, para poder sumar los valores y a la vez dividirlos, no encontramos manera de poner :'sum' y que nos deje dividir) y los nombres delos artistas y de las canciones el unique son explicados en el ejercicio 6)\n",
    "can_group = spoty.groupby('spotify_track_uri').agg({'ms_played': lambda x: x.sum() / 3600000,'master_metadata_track_name': 'unique', 'master_metadata_album_artist_name' : 'unique'})\n",
    "\n",
    "# Guardamos en una variable las 10 canciones más escuchadas\n",
    "top_10 = can_group.sort_values(by= 'ms_played', ascending=False).head(10)\n",
    "\n",
    "# Hacemos un grafico de barras y decimos que valores queremos en X (los nombres de las canciones), que nombre le queremos dar al eje y que queremos en el eje y (el tiempo escuchado a cada una)\n",
    "my_plot = top_10.plot(kind='bar', x='master_metadata_track_name', xlabel='canciones mas escuchadas', y='ms_played')\n"
   ]
  },
  {
   "cell_type": "markdown",
   "metadata": {},
   "source": [
    "# Ademas, se deben plantear al menos 3 preguntas adicionales y responderlas utilizando el dataset."
   ]
  },
  {
   "cell_type": "code",
   "execution_count": 14,
   "metadata": {},
   "outputs": [
    {
     "data": {
      "image/png": "[encoded data removed]",
      "text/plain": [
       "<Figure size 640x480 with 1 Axes>"
      ]
     },
     "metadata": {},
     "output_type": "display_data"
    }
   ],
   "source": [
    "#  Ejercicio propio 1 - top 3 de albums mas escuchados y graficarlos:\n",
    "\n",
    "# Agrupamos por nombre de album y calculamos cuantas horas se los escuchó\n",
    "album_group = spoty.groupby('master_metadata_album_album_name')['ms_played'].sum()/3600000\n",
    "\n",
    "# Guardamos en una variable los tres mas escuchados\n",
    "top_3_album = album_group.sort_values(ascending=False).head(3)\n",
    "\n",
    "# Usamos un grafico de barras para mostrar los datos (horas escuchadas y albumes mas escuchados)\n",
    "plot = top_3_album.plot(kind='bar',xlabel='Albumes más escuchados',ylabel='Horas escuchadas')\n"
   ]
  },
  {
   "cell_type": "code",
   "execution_count": 15,
   "metadata": {},
   "outputs": [
    {
     "data": {
      "text/plain": [
       "platform\n",
       "iOS 11.0 (iPhone8,1)    699.431412\n",
       "Name: ms_played, dtype: float64"
      ]
     },
     "execution_count": 15,
     "metadata": {},
     "output_type": "execute_result"
    }
   ],
   "source": [
    "#  ejercicio propio 2 - en que dispositivo se escucho mas canciones \n",
    "\n",
    "# Filtramos por plataforma y calculamos cuantas horas se escucho en cada una\n",
    "plat_esc = spoty.groupby('platform')['ms_played'].sum()/3600000\n",
    "\n",
    "# Agarramos cual fue el dispositivo en el que mas se escuchó\n",
    "plat_esc.sort_values(ascending=False).head(1)\n"
   ]
  },
  {
   "cell_type": "code",
   "execution_count": 16,
   "metadata": {},
   "outputs": [
    {
     "name": "stdout",
     "output_type": "stream",
     "text": [
      "Al artista más escuchado ( Charly García ) se lo escuchó 4922.073016666666 minutos\n"
     ]
    }
   ],
   "source": [
    "#  ejercicio propio 3 - cuantos minutos se escucho al artista mas escuchado\n",
    "\n",
    "# Agrupamos por artistas y calculamos cuantos minutos se lo escucho a cada uno\n",
    "art_group = spoty.groupby ('master_metadata_album_artist_name')['ms_played'].sum()/60000\n",
    "\n",
    "# Agarramos el más escuchado\n",
    "art_mas_esc = art_group.sort_values (ascending=False).head(1)\n",
    "\n",
    "#Formamos una oracion en la que decimos quien es el más escuchado y cuantos minutos se lo escucho (arriba explicamos que es el index) y utilizamos values para agarrar el valor que contiene la tabla\n",
    "print(\"Al artista más escuchado (\",art_mas_esc.index[0],\") se lo escuchó\", art_mas_esc.values[0],\"minutos\")\n"
   ]
  },
  {
   "cell_type": "code",
   "execution_count": 26,
   "metadata": {},
   "outputs": [
    {
     "data": {
      "image/png": "[encoded data removed]",
      "text/plain": [
       "<Figure size 640x480 with 1 Axes>"
      ]
     },
     "metadata": {},
     "output_type": "display_data"
    }
   ],
   "source": [
    "#  ejercicio propio 4 - cuales son las 10 canciones de Taylor Swift mas escuchadas\n",
    "\n",
    "# Creamos un nuevo dataframe agarrando solamente las filas en las que el nombre contiene Taylor (para que el string no tenga que ser exacto al que escribimos nosotros usamos el STR.CONTAINS)\n",
    "TY = spoty[spoty[\"master_metadata_album_artist_name\"].str.contains(\"Taylor\") == True]\n",
    "\n",
    "# Agrupamos por URI y por nombre de canción, sumamos los milisegundos escuchados y agarramos los ultimos 10. Al final, con el RESET_INDEX, hacemos que los valores por los que agrupamos dejen de ser indices y vuelvan a ser valores de una columna del dataframe\n",
    "TY_10 = TY.groupby([\"spotify_track_uri\",'master_metadata_track_name'])['ms_played'].sum().sort_values(ascending=False).head(10).reset_index()\n",
    "\n",
    "# Graficamos indicando el tipo de grafico y que queremos que este en el eje X\n",
    "plot = TY_10.plot(kind='bar', x = 'master_metadata_track_name')\n",
    "\n"
   ]
  },
  {
   "cell_type": "markdown",
   "metadata": {},
   "source": [
    "Como esta lineas de codigo se repiten varias veces en el bonus, la explicamos una sola vez aca: \n",
    "\n",
    "Le asignamos los milisegundos a una variable y lo dividimos por mil para quedarnos con los segundos(division entera para que no de con decimales, eso es el //)(en el dividio 1000 esta para sacar decimales muy chicos que no afectan al resultado)\n",
    "T_restante = X //1000\n",
    "\n",
    "Lo dividimos para saber cuantos dias (24 horas) se escuchó \n",
    "dias = T_restante // (24 * 3600)\n",
    "\n",
    "Calculamos el resto de la division de arriba para saber cuantos segundos sobraron (porcentaje indica resto de una division)\n",
    "T_restante %= (24 * 3600)\n",
    "\n",
    "Dividimos para saber cuantas horas se escucho\n",
    "horas = T_restante // 3600\n",
    "\n",
    "Lo mismo que antes para saber cuantos segundos sobraron\n",
    "T_restante %= 3600\n",
    "\n",
    "Dividimos para saber cuantos minutos se escucho\n",
    "minutos = T_restante // 60\n",
    "\n",
    "Guardamos el sobrante en una variable, que seranlos segundos\n",
    "segundos = T_restante % 60"
   ]
  },
  {
   "cell_type": "code",
   "execution_count": 33,
   "metadata": {},
   "outputs": [
    {
     "name": "stdout",
     "output_type": "stream",
     "text": [
      "El dia que más se escuchó fue Saturday y en total se escuchó: [25] dias, [21] horas, [58] minutos y [12] segundos.\n",
      "La hora en la que más musica se escucho fue a las 22 y en total se escuchó: [12] dias, [17] horas, [32] minutos y [59] segundos.\n"
     ]
    }
   ],
   "source": [
    "#  Bonus 1: ¿Cuál es el día de la semana en el que más se escucha música? ¿Y el horario del día?\n",
    "\n",
    "# Reepmlazamos los valores en la columna ts (que estan expresados de una forma que no pueden ser utilizados) por otros que si pueden ser interpretados por otros comandos\n",
    "spoty['ts'] = pd.to_datetime( spoty[\"ts\"] )\n",
    "\n",
    "# Agrupamos por dia (DAY_NAME) y sumamos los milisgeundos que se escucho en esos dias y agarramos el dia en el que más se escuchó\n",
    "D_mas_esc = spoty.groupby(spoty['ts'].dt.day_name())['ms_played'].sum().sort_values(ascending=False).head(1)\n",
    "\n",
    "T_restante = D_mas_esc //1000\n",
    "dias = T_restante // (24 * 3600)\n",
    "T_restante %= (24 * 3600)\n",
    "horas = T_restante // 3600\n",
    "T_restante %= 3600\n",
    "minutos = T_restante // 60\n",
    "segundos = T_restante % 60\n",
    "\n",
    "# Formamos una oracion en la que vamos diciendo caundo se escucho mas y cuanto tiempo\n",
    "print('El dia que más se escuchó fue',D_mas_esc.index[0],'y en total se escuchó:',dias.values ,'dias,',horas.values,'horas,',minutos.values,'minutos y',segundos.values,'segundos.')\n",
    "\n",
    "# La misma agrupación que arriba, solo que agrupamos por hora en la que mas se escucho (de 0 a 23)\n",
    "H_mas_esc = spoty.groupby(spoty['ts'].dt.hour)['ms_played'].sum().sort_values(ascending=False).head(1)\n",
    "\n",
    "T_restante = H_mas_esc //1000\n",
    "dias = T_restante // (24 * 3600)\n",
    "T_restante %= (24 * 3600)\n",
    "horas = T_restante // 3600\n",
    "T_restante %= 3600\n",
    "minutos = T_restante // 60\n",
    "segundos = T_restante % 60\n",
    "\n",
    "# Formamos una oracion en la que vamos diciendo caundo se escucho mas y cuanto tiempo\n",
    "print('La hora en la que más musica se escucho fue a las',H_mas_esc.index[0],'y en total se escuchó:',dias.values ,'dias,',horas.values,'horas,',minutos.values,'minutos y',segundos.values,'segundos.')\n"
   ]
  },
  {
   "cell_type": "code",
   "execution_count": 32,
   "metadata": {},
   "outputs": [
    {
     "name": "stdout",
     "output_type": "stream",
     "text": [
      "El mes en el que más musica se escuchó fue July y en total se escuchó: [14] dias, [8] horas, [27] minutos y [41] segundos.\n"
     ]
    }
   ],
   "source": [
    "#  Bonus 2: ¿Cuál es el mes en el que más se escucha música?\n",
    "\n",
    "# Reepmlazamos los valores en la columna ts (que estan expresados de una forma que no pueden ser utilizados) por otros que si pueden ser interpretados por otros comandos\n",
    "spoty['ts'] = pd.to_datetime( spoty[\"ts\"] )\n",
    "\n",
    "# Agrupamos por mes para saber cuando se escuhco mas musica\n",
    "M_mas_esc = spoty.groupby(spoty['ts'].dt.month_name())['ms_played'].sum().sort_values(ascending=False).head(1)\n",
    "\n",
    "T_restante = M_mas_esc //1000\n",
    "dias = T_restante // (24 * 3600)\n",
    "T_restante %= (24 * 3600)\n",
    "horas = T_restante // 3600\n",
    "T_restante %= 3600\n",
    "minutos = T_restante // 60\n",
    "segundos = T_restante % 60\n",
    "\n",
    "# Formamos una horacion en la que vamos diciendo caundo se escucho mas y cuanto tiempo\n",
    "print('El mes en el que más musica se escuchó fue',M_mas_esc.index[0],'y en total se escuchó:',dias.values ,'dias,',horas.values,'horas,',minutos.values,'minutos y',segundos.values,'segundos.')\n"
   ]
  },
  {
   "cell_type": "code",
   "execution_count": 20,
   "metadata": {},
   "outputs": [
    {
     "data": {
      "text/html": [
       "<div>\n",
       "<style scoped>\n",
       "    .dataframe tbody tr th:only-of-type {\n",
       "        vertical-align: middle;\n",
       "    }\n",
       "\n",
       "    .dataframe tbody tr th {\n",
       "        vertical-align: top;\n",
       "    }\n",
       "\n",
       "    .dataframe thead th {\n",
       "        text-align: right;\n",
       "    }\n",
       "</style>\n",
       "<table border=\"1\" class=\"dataframe\">\n",
       "  <thead>\n",
       "    <tr style=\"text-align: right;\">\n",
       "      <th></th>\n",
       "      <th>ts</th>\n",
       "      <th>master_metadata_album_artist_name</th>\n",
       "    </tr>\n",
       "  </thead>\n",
       "  <tbody>\n",
       "    <tr>\n",
       "      <th>19</th>\n",
       "      <td>April</td>\n",
       "      <td>Duran Duran</td>\n",
       "    </tr>\n",
       "    <tr>\n",
       "      <th>1</th>\n",
       "      <td>August</td>\n",
       "      <td>Luis Alberto Spinetta</td>\n",
       "    </tr>\n",
       "    <tr>\n",
       "      <th>18</th>\n",
       "      <td>December</td>\n",
       "      <td>Polyphia</td>\n",
       "    </tr>\n",
       "    <tr>\n",
       "      <th>7</th>\n",
       "      <td>February</td>\n",
       "      <td>Talking Heads</td>\n",
       "    </tr>\n",
       "    <tr>\n",
       "      <th>35</th>\n",
       "      <td>January</td>\n",
       "      <td>Charly García</td>\n",
       "    </tr>\n",
       "    <tr>\n",
       "      <th>3</th>\n",
       "      <td>July</td>\n",
       "      <td>Polyphia</td>\n",
       "    </tr>\n",
       "    <tr>\n",
       "      <th>34</th>\n",
       "      <td>June</td>\n",
       "      <td>Luis Alberto Spinetta</td>\n",
       "    </tr>\n",
       "    <tr>\n",
       "      <th>17</th>\n",
       "      <td>March</td>\n",
       "      <td>Childish Gambino</td>\n",
       "    </tr>\n",
       "    <tr>\n",
       "      <th>2</th>\n",
       "      <td>May</td>\n",
       "      <td>Childish Gambino</td>\n",
       "    </tr>\n",
       "    <tr>\n",
       "      <th>11</th>\n",
       "      <td>November</td>\n",
       "      <td>Pink Floyd</td>\n",
       "    </tr>\n",
       "    <tr>\n",
       "      <th>0</th>\n",
       "      <td>October</td>\n",
       "      <td>Charly García</td>\n",
       "    </tr>\n",
       "    <tr>\n",
       "      <th>9</th>\n",
       "      <td>September</td>\n",
       "      <td>Charly García</td>\n",
       "    </tr>\n",
       "  </tbody>\n",
       "</table>\n",
       "</div>"
      ],
      "text/plain": [
       "           ts master_metadata_album_artist_name\n",
       "19      April                       Duran Duran\n",
       "1      August             Luis Alberto Spinetta\n",
       "18   December                          Polyphia\n",
       "7    February                     Talking Heads\n",
       "35    January                     Charly García\n",
       "3        July                          Polyphia\n",
       "34       June             Luis Alberto Spinetta\n",
       "17      March                  Childish Gambino\n",
       "2         May                  Childish Gambino\n",
       "11   November                        Pink Floyd\n",
       "0     October                     Charly García\n",
       "9   September                     Charly García"
      ]
     },
     "execution_count": 20,
     "metadata": {},
     "output_type": "execute_result"
    }
   ],
   "source": [
    "#  Bonus 3: ¿Cuál es el artista que más se escucha en cada mes?\n",
    "\n",
    "# Reepmlazamos los valores en la columna ts (que estan expresados de una forma que no pueden ser utilizados) por otros que si pueden ser interpretados por otros comandos\n",
    "spoty['ts'] = pd.to_datetime( spoty[\"ts\"] )\n",
    "\n",
    "# Agrupamos por mes y por artista y calcuolamos cuanto se lo escucho a cada uno en cada mes y con el RESET_INDEX hacemos que los valores por los que agrupamos vuelvan al dataframe como valores de una columna para usarlos despues mas facil\n",
    "Art_M_mas_esc = spoty.groupby([spoty['ts'].dt.month_name(),\"master_metadata_album_artist_name\"])['ms_played'].sum().sort_values(ascending=False).reset_index()\n",
    "\n",
    "# En la agrupacion de arriba buscamos con el .LOC lo que tenga el mismo indice que lo que coalculemos dento de los corchetes. Dentro de los corchetes agrupamos por mes y agarramnos el indice que tiene el artista más escuchado de cada mes (idxmax agarra el indice del que sea el valor más grande)\n",
    "Art_M_mas_esc = Art_M_mas_esc.loc[Art_M_mas_esc.groupby(Art_M_mas_esc['ts'])['ms_played'].idxmax()]\n",
    "\n",
    "# Mostramos unicamente los meses y los artistas, porque lo demas no es relevante\n",
    "Art_M_mas_esc[[\"ts\",\"master_metadata_album_artist_name\"]]\n"
   ]
  },
  {
   "cell_type": "code",
   "execution_count": 37,
   "metadata": {},
   "outputs": [
    {
     "name": "stdout",
     "output_type": "stream",
     "text": [
      "La cancion mas escuchada fue:\n"
     ]
    },
    {
     "data": {
      "text/plain": [
       "<pandas.core.groupby.generic.DataFrameGroupBy object at 0x000002295F09A110>"
      ]
     },
     "execution_count": 37,
     "metadata": {},
     "output_type": "execute_result"
    }
   ],
   "source": [
    "#  Bonus 4: ¿Cual es la canción mas veces salteada?\n",
    "\n",
    "# Creamos un nuevo dataframe que contenga solo las cancoiones que SI fueron skippeadas\n",
    "can_salt = spoty[spoty['skipped']==True]\n",
    "\n",
    "# Agrupamos las canciones filtradas anteriormente por URI\n",
    "can_agrup = can_salt.groupby('spotify_track_uri')\n",
    "\n",
    "# Usamos el VALUE_COUNTS para saber cuantas veces se repite cada valor (VALUE_COUNTS cuenta cada vez que se repite cada valor mientras que COUNT suma cada vez que hay un valor no nulo, por eso usamos el que usamos)\n",
    "can_agrup_salt= can_agrup['skipped'].value_counts()\n",
    "\n",
    "# Nos guardamos la URI de la cancion mas escuchada (el VALUE_COUNT hace que pase a ser multi-indice, por eso hayq ue especificar que queremos el primer indice y su primer valor)\n",
    "uri_mas_saltada = can_agrup_salt.sort_values(ascending=0).head(1).index[0][0]\n",
    "\n",
    "# Creamos una oracion\n",
    "print(\"La cancion mas escuchada fue:\")\n",
    "\n",
    "# Agarra del dataframe todas las canciones que tengan el mismo URI que conseguimo antes y luego agrupa todas las veces que se repite (es necesario el .HEAD porque sino no se puede mostrar debido a que por alguna razon pandas no muestra groupby)\n",
    "can_salt[can_salt['spotify_track_uri'] == uri_mas_saltada].groupby('master_metadata_track_name').head(1)\n"
   ]
  },
  {
   "cell_type": "code",
   "execution_count": null,
   "metadata": {},
   "outputs": [],
   "source": []
  }
 ],
 "metadata": {
  "kernelspec": {
   "display_name": "Python 3",
   "language": "python",
   "name": "python3"
  },
  "language_info": {
   "codemirror_mode": {
    "name": "ipython",
    "version": 3
   },
   "file_extension": ".py",
   "mimetype": "text/x-python",
   "name": "python",
   "nbconvert_exporter": "python",
   "pygments_lexer": "ipython3",
   "version": "3.11.9"
  }
 },
 "nbformat": 4,
 "nbformat_minor": 2
}
