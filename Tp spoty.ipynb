{
 "cells": [
  {
   "cell_type": "code",
   "execution_count": 2,
   "metadata": {},
   "outputs": [
    {
     "name": "stdout",
     "output_type": "stream",
     "text": [
      "Requirement already satisfied: pandas in c:\\users\\usuario\\appdata\\local\\packages\\pythonsoftwarefoundation.python.3.11_qbz5n2kfra8p0\\localcache\\local-packages\\python311\\site-packages (2.2.2)\n",
      "Requirement already satisfied: numpy>=1.23.2 in c:\\users\\usuario\\appdata\\local\\packages\\pythonsoftwarefoundation.python.3.11_qbz5n2kfra8p0\\localcache\\local-packages\\python311\\site-packages (from pandas) (1.26.4)\n",
      "Requirement already satisfied: python-dateutil>=2.8.2 in c:\\users\\usuario\\appdata\\local\\packages\\pythonsoftwarefoundation.python.3.11_qbz5n2kfra8p0\\localcache\\local-packages\\python311\\site-packages (from pandas) (2.9.0.post0)\n",
      "Requirement already satisfied: pytz>=2020.1 in c:\\users\\usuario\\appdata\\local\\packages\\pythonsoftwarefoundation.python.3.11_qbz5n2kfra8p0\\localcache\\local-packages\\python311\\site-packages (from pandas) (2024.1)\n",
      "Requirement already satisfied: tzdata>=2022.7 in c:\\users\\usuario\\appdata\\local\\packages\\pythonsoftwarefoundation.python.3.11_qbz5n2kfra8p0\\localcache\\local-packages\\python311\\site-packages (from pandas) (2024.1)\n",
      "Requirement already satisfied: six>=1.5 in c:\\users\\usuario\\appdata\\local\\packages\\pythonsoftwarefoundation.python.3.11_qbz5n2kfra8p0\\localcache\\local-packages\\python311\\site-packages (from python-dateutil>=2.8.2->pandas) (1.16.0)\n",
      "Note: you may need to restart the kernel to use updated packages.\n",
      "Requirement already satisfied: matplotlib in c:\\users\\usuario\\appdata\\local\\packages\\pythonsoftwarefoundation.python.3.11_qbz5n2kfra8p0\\localcache\\local-packages\\python311\\site-packages (3.9.0)\n",
      "Requirement already satisfied: contourpy>=1.0.1 in c:\\users\\usuario\\appdata\\local\\packages\\pythonsoftwarefoundation.python.3.11_qbz5n2kfra8p0\\localcache\\local-packages\\python311\\site-packages (from matplotlib) (1.2.1)\n",
      "Requirement already satisfied: cycler>=0.10 in c:\\users\\usuario\\appdata\\local\\packages\\pythonsoftwarefoundation.python.3.11_qbz5n2kfra8p0\\localcache\\local-packages\\python311\\site-packages (from matplotlib) (0.12.1)\n",
      "Requirement already satisfied: fonttools>=4.22.0 in c:\\users\\usuario\\appdata\\local\\packages\\pythonsoftwarefoundation.python.3.11_qbz5n2kfra8p0\\localcache\\local-packages\\python311\\site-packages (from matplotlib) (4.51.0)\n",
      "Requirement already satisfied: kiwisolver>=1.3.1 in c:\\users\\usuario\\appdata\\local\\packages\\pythonsoftwarefoundation.python.3.11_qbz5n2kfra8p0\\localcache\\local-packages\\python311\\site-packages (from matplotlib) (1.4.5)\n",
      "Requirement already satisfied: numpy>=1.23 in c:\\users\\usuario\\appdata\\local\\packages\\pythonsoftwarefoundation.python.3.11_qbz5n2kfra8p0\\localcache\\local-packages\\python311\\site-packages (from matplotlib) (1.26.4)\n",
      "Requirement already satisfied: packaging>=20.0 in c:\\users\\usuario\\appdata\\local\\packages\\pythonsoftwarefoundation.python.3.11_qbz5n2kfra8p0\\localcache\\local-packages\\python311\\site-packages (from matplotlib) (24.0)\n",
      "Requirement already satisfied: pillow>=8 in c:\\users\\usuario\\appdata\\local\\packages\\pythonsoftwarefoundation.python.3.11_qbz5n2kfra8p0\\localcache\\local-packages\\python311\\site-packages (from matplotlib) (10.3.0)\n",
      "Requirement already satisfied: pyparsing>=2.3.1 in c:\\users\\usuario\\appdata\\local\\packages\\pythonsoftwarefoundation.python.3.11_qbz5n2kfra8p0\\localcache\\local-packages\\python311\\site-packages (from matplotlib) (3.1.2)\n",
      "Requirement already satisfied: python-dateutil>=2.7 in c:\\users\\usuario\\appdata\\local\\packages\\pythonsoftwarefoundation.python.3.11_qbz5n2kfra8p0\\localcache\\local-packages\\python311\\site-packages (from matplotlib) (2.9.0.post0)\n",
      "Requirement already satisfied: six>=1.5 in c:\\users\\usuario\\appdata\\local\\packages\\pythonsoftwarefoundation.python.3.11_qbz5n2kfra8p0\\localcache\\local-packages\\python311\\site-packages (from python-dateutil>=2.7->matplotlib) (1.16.0)\n",
      "Note: you may need to restart the kernel to use updated packages.\n"
     ]
    }
   ],
   "source": [
    "%pip install pandas\n",
    "%pip install matplotlib\n"
   ]
  },
  {
   "cell_type": "code",
   "execution_count": 5,
   "metadata": {},
   "outputs": [],
   "source": [
    "import pandas as pd\n",
    "import matplotlib.pyplot as plt"
   ]
  },
  {
   "cell_type": "code",
   "execution_count": 6,
   "metadata": {},
   "outputs": [
    {
     "name": "stderr",
     "output_type": "stream",
     "text": [
      "C:\\Users\\48111269\\AppData\\Local\\Temp\\ipykernel_4044\\2368300940.py:3: DtypeWarning: Columns (16) have mixed types. Specify dtype option on import or set low_memory=False.\n",
      "  spoty : pd.DataFrame = pd.read_csv(archivo)\n"
     ]
    },
    {
     "data": {
      "text/html": [
       "<div>\n",
       "<style scoped>\n",
       "    .dataframe tbody tr th:only-of-type {\n",
       "        vertical-align: middle;\n",
       "    }\n",
       "\n",
       "    .dataframe tbody tr th {\n",
       "        vertical-align: top;\n",
       "    }\n",
       "\n",
       "    .dataframe thead th {\n",
       "        text-align: right;\n",
       "    }\n",
       "</style>\n",
       "<table border=\"1\" class=\"dataframe\">\n",
       "  <thead>\n",
       "    <tr style=\"text-align: right;\">\n",
       "      <th></th>\n",
       "      <th>ts</th>\n",
       "      <th>username</th>\n",
       "      <th>platform</th>\n",
       "      <th>ms_played</th>\n",
       "      <th>conn_country</th>\n",
       "      <th>user_agent_decrypted</th>\n",
       "      <th>master_metadata_track_name</th>\n",
       "      <th>master_metadata_album_artist_name</th>\n",
       "      <th>master_metadata_album_album_name</th>\n",
       "      <th>spotify_track_uri</th>\n",
       "      <th>episode_name</th>\n",
       "      <th>episode_show_name</th>\n",
       "      <th>spotify_episode_uri</th>\n",
       "      <th>reason_start</th>\n",
       "      <th>reason_end</th>\n",
       "      <th>shuffle</th>\n",
       "      <th>skipped</th>\n",
       "      <th>offline</th>\n",
       "      <th>offline_timestamp</th>\n",
       "      <th>is_podcast</th>\n",
       "    </tr>\n",
       "  </thead>\n",
       "  <tbody>\n",
       "    <tr>\n",
       "      <th>0</th>\n",
       "      <td>2020-12-06T02:51:11Z</td>\n",
       "      <td>11145402699</td>\n",
       "      <td>iOS 14.2 (iPhone12,3)</td>\n",
       "      <td>145610</td>\n",
       "      <td>AR</td>\n",
       "      <td>unknown</td>\n",
       "      <td>Hey Jude - Remastered 2015</td>\n",
       "      <td>The Beatles</td>\n",
       "      <td>1</td>\n",
       "      <td>spotify:track:0aym2LBJBk9DAYuHHutrIl</td>\n",
       "      <td>NaN</td>\n",
       "      <td>NaN</td>\n",
       "      <td>NaN</td>\n",
       "      <td>trackdone</td>\n",
       "      <td>fwdbtn</td>\n",
       "      <td>True</td>\n",
       "      <td>NaN</td>\n",
       "      <td>False</td>\n",
       "      <td>1607222710755</td>\n",
       "      <td>False</td>\n",
       "    </tr>\n",
       "    <tr>\n",
       "      <th>1</th>\n",
       "      <td>2020-12-06T02:53:31Z</td>\n",
       "      <td>11145402699</td>\n",
       "      <td>iOS 14.2 (iPhone12,3)</td>\n",
       "      <td>138692</td>\n",
       "      <td>AR</td>\n",
       "      <td>unknown</td>\n",
       "      <td>Hacer un puente</td>\n",
       "      <td>La Franela</td>\n",
       "      <td>Hacer Un Puente</td>\n",
       "      <td>spotify:track:18Q3WTfyWX1tdS1cp42NhA</td>\n",
       "      <td>NaN</td>\n",
       "      <td>NaN</td>\n",
       "      <td>NaN</td>\n",
       "      <td>fwdbtn</td>\n",
       "      <td>fwdbtn</td>\n",
       "      <td>True</td>\n",
       "      <td>NaN</td>\n",
       "      <td>False</td>\n",
       "      <td>1607223071185</td>\n",
       "      <td>False</td>\n",
       "    </tr>\n",
       "    <tr>\n",
       "      <th>2</th>\n",
       "      <td>2020-12-06T02:53:53Z</td>\n",
       "      <td>11145402699</td>\n",
       "      <td>iOS 14.2 (iPhone12,3)</td>\n",
       "      <td>22662</td>\n",
       "      <td>AR</td>\n",
       "      <td>unknown</td>\n",
       "      <td>Happy Together - Remastered</td>\n",
       "      <td>The Turtles</td>\n",
       "      <td>All the Singles</td>\n",
       "      <td>spotify:track:2admbUc576sC6M0QeUkg2C</td>\n",
       "      <td>NaN</td>\n",
       "      <td>NaN</td>\n",
       "      <td>NaN</td>\n",
       "      <td>fwdbtn</td>\n",
       "      <td>fwdbtn</td>\n",
       "      <td>True</td>\n",
       "      <td>NaN</td>\n",
       "      <td>False</td>\n",
       "      <td>1607223210387</td>\n",
       "      <td>False</td>\n",
       "    </tr>\n",
       "    <tr>\n",
       "      <th>3</th>\n",
       "      <td>2020-12-06T02:53:56Z</td>\n",
       "      <td>11145402699</td>\n",
       "      <td>iOS 14.2 (iPhone12,3)</td>\n",
       "      <td>2716</td>\n",
       "      <td>AR</td>\n",
       "      <td>unknown</td>\n",
       "      <td>Demons</td>\n",
       "      <td>Imagine Dragons</td>\n",
       "      <td>Night Visions</td>\n",
       "      <td>spotify:track:5qaEfEh1AtSdrdrByCP7qR</td>\n",
       "      <td>NaN</td>\n",
       "      <td>NaN</td>\n",
       "      <td>NaN</td>\n",
       "      <td>fwdbtn</td>\n",
       "      <td>fwdbtn</td>\n",
       "      <td>True</td>\n",
       "      <td>NaN</td>\n",
       "      <td>False</td>\n",
       "      <td>1607223233165</td>\n",
       "      <td>False</td>\n",
       "    </tr>\n",
       "    <tr>\n",
       "      <th>4</th>\n",
       "      <td>2020-12-06T02:53:57Z</td>\n",
       "      <td>11145402699</td>\n",
       "      <td>iOS 14.2 (iPhone12,3)</td>\n",
       "      <td>116</td>\n",
       "      <td>AR</td>\n",
       "      <td>unknown</td>\n",
       "      <td>Paint It, Black</td>\n",
       "      <td>The Rolling Stones</td>\n",
       "      <td>Aftermath</td>\n",
       "      <td>spotify:track:63T7DJ1AFDD6Bn8VzG6JE8</td>\n",
       "      <td>NaN</td>\n",
       "      <td>NaN</td>\n",
       "      <td>NaN</td>\n",
       "      <td>fwdbtn</td>\n",
       "      <td>fwdbtn</td>\n",
       "      <td>True</td>\n",
       "      <td>NaN</td>\n",
       "      <td>False</td>\n",
       "      <td>1607223236453</td>\n",
       "      <td>False</td>\n",
       "    </tr>\n",
       "    <tr>\n",
       "      <th>...</th>\n",
       "      <td>...</td>\n",
       "      <td>...</td>\n",
       "      <td>...</td>\n",
       "      <td>...</td>\n",
       "      <td>...</td>\n",
       "      <td>...</td>\n",
       "      <td>...</td>\n",
       "      <td>...</td>\n",
       "      <td>...</td>\n",
       "      <td>...</td>\n",
       "      <td>...</td>\n",
       "      <td>...</td>\n",
       "      <td>...</td>\n",
       "      <td>...</td>\n",
       "      <td>...</td>\n",
       "      <td>...</td>\n",
       "      <td>...</td>\n",
       "      <td>...</td>\n",
       "      <td>...</td>\n",
       "      <td>...</td>\n",
       "    </tr>\n",
       "    <tr>\n",
       "      <th>125344</th>\n",
       "      <td>2018-10-05T22:44:53Z</td>\n",
       "      <td>11145402699</td>\n",
       "      <td>iOS 12.0 (iPhone8,1)</td>\n",
       "      <td>1365</td>\n",
       "      <td>AR</td>\n",
       "      <td>unknown</td>\n",
       "      <td>Gente Que No Sabe Lo Que Quiere</td>\n",
       "      <td>Litto Nebbia</td>\n",
       "      <td>Solo Se Trata de Vivir / Solopiano Vol. 1</td>\n",
       "      <td>spotify:track:3u8sP95YHOsYwRQfms6kgc</td>\n",
       "      <td>NaN</td>\n",
       "      <td>NaN</td>\n",
       "      <td>NaN</td>\n",
       "      <td>fwdbtn</td>\n",
       "      <td>fwdbtn</td>\n",
       "      <td>False</td>\n",
       "      <td>NaN</td>\n",
       "      <td>False</td>\n",
       "      <td>1538779491211</td>\n",
       "      <td>False</td>\n",
       "    </tr>\n",
       "    <tr>\n",
       "      <th>125345</th>\n",
       "      <td>2018-10-05T22:44:54Z</td>\n",
       "      <td>11145402699</td>\n",
       "      <td>iOS 12.0 (iPhone8,1)</td>\n",
       "      <td>1344</td>\n",
       "      <td>AR</td>\n",
       "      <td>unknown</td>\n",
       "      <td>11 Y 6</td>\n",
       "      <td>Fito Paez</td>\n",
       "      <td>Giros</td>\n",
       "      <td>spotify:track:2PkTjm1QAJCZbJ9MqC4RqA</td>\n",
       "      <td>NaN</td>\n",
       "      <td>NaN</td>\n",
       "      <td>NaN</td>\n",
       "      <td>fwdbtn</td>\n",
       "      <td>fwdbtn</td>\n",
       "      <td>False</td>\n",
       "      <td>NaN</td>\n",
       "      <td>False</td>\n",
       "      <td>1538779492740</td>\n",
       "      <td>False</td>\n",
       "    </tr>\n",
       "    <tr>\n",
       "      <th>125346</th>\n",
       "      <td>2018-10-05T22:44:55Z</td>\n",
       "      <td>11145402699</td>\n",
       "      <td>iOS 12.0 (iPhone8,1)</td>\n",
       "      <td>832</td>\n",
       "      <td>AR</td>\n",
       "      <td>unknown</td>\n",
       "      <td>Mientes</td>\n",
       "      <td>Charly García</td>\n",
       "      <td>Tango 4</td>\n",
       "      <td>spotify:track:670dXRMKr9vVtGk01dYeSr</td>\n",
       "      <td>NaN</td>\n",
       "      <td>NaN</td>\n",
       "      <td>NaN</td>\n",
       "      <td>fwdbtn</td>\n",
       "      <td>fwdbtn</td>\n",
       "      <td>False</td>\n",
       "      <td>NaN</td>\n",
       "      <td>False</td>\n",
       "      <td>1538779494205</td>\n",
       "      <td>False</td>\n",
       "    </tr>\n",
       "    <tr>\n",
       "      <th>125347</th>\n",
       "      <td>2018-10-05T22:44:56Z</td>\n",
       "      <td>11145402699</td>\n",
       "      <td>iOS 12.0 (iPhone8,1)</td>\n",
       "      <td>1194</td>\n",
       "      <td>AR</td>\n",
       "      <td>unknown</td>\n",
       "      <td>Apostar al Amor</td>\n",
       "      <td>Los Tipitos</td>\n",
       "      <td>Push</td>\n",
       "      <td>spotify:track:6PyBNCpOX5uOjKDNjNNgjq</td>\n",
       "      <td>NaN</td>\n",
       "      <td>NaN</td>\n",
       "      <td>NaN</td>\n",
       "      <td>fwdbtn</td>\n",
       "      <td>fwdbtn</td>\n",
       "      <td>False</td>\n",
       "      <td>NaN</td>\n",
       "      <td>False</td>\n",
       "      <td>1538779495059</td>\n",
       "      <td>False</td>\n",
       "    </tr>\n",
       "    <tr>\n",
       "      <th>125348</th>\n",
       "      <td>2018-10-05T22:44:58Z</td>\n",
       "      <td>11145402699</td>\n",
       "      <td>iOS 12.0 (iPhone8,1)</td>\n",
       "      <td>85</td>\n",
       "      <td>AR</td>\n",
       "      <td>unknown</td>\n",
       "      <td>El Palomo</td>\n",
       "      <td>Kevin Johansen</td>\n",
       "      <td>Kevin Johansen + The Nada + Liniers: Vivo En B...</td>\n",
       "      <td>spotify:track:5773XHHdECHO8d5BMWjtIS</td>\n",
       "      <td>NaN</td>\n",
       "      <td>NaN</td>\n",
       "      <td>NaN</td>\n",
       "      <td>fwdbtn</td>\n",
       "      <td>fwdbtn</td>\n",
       "      <td>False</td>\n",
       "      <td>NaN</td>\n",
       "      <td>False</td>\n",
       "      <td>1538779496312</td>\n",
       "      <td>False</td>\n",
       "    </tr>\n",
       "  </tbody>\n",
       "</table>\n",
       "<p>125349 rows × 20 columns</p>\n",
       "</div>"
      ],
      "text/plain": [
       "                          ts     username               platform  ms_played  \\\n",
       "0       2020-12-06T02:51:11Z  11145402699  iOS 14.2 (iPhone12,3)     145610   \n",
       "1       2020-12-06T02:53:31Z  11145402699  iOS 14.2 (iPhone12,3)     138692   \n",
       "2       2020-12-06T02:53:53Z  11145402699  iOS 14.2 (iPhone12,3)      22662   \n",
       "3       2020-12-06T02:53:56Z  11145402699  iOS 14.2 (iPhone12,3)       2716   \n",
       "4       2020-12-06T02:53:57Z  11145402699  iOS 14.2 (iPhone12,3)        116   \n",
       "...                      ...          ...                    ...        ...   \n",
       "125344  2018-10-05T22:44:53Z  11145402699   iOS 12.0 (iPhone8,1)       1365   \n",
       "125345  2018-10-05T22:44:54Z  11145402699   iOS 12.0 (iPhone8,1)       1344   \n",
       "125346  2018-10-05T22:44:55Z  11145402699   iOS 12.0 (iPhone8,1)        832   \n",
       "125347  2018-10-05T22:44:56Z  11145402699   iOS 12.0 (iPhone8,1)       1194   \n",
       "125348  2018-10-05T22:44:58Z  11145402699   iOS 12.0 (iPhone8,1)         85   \n",
       "\n",
       "       conn_country user_agent_decrypted       master_metadata_track_name  \\\n",
       "0                AR              unknown       Hey Jude - Remastered 2015   \n",
       "1                AR              unknown                  Hacer un puente   \n",
       "2                AR              unknown      Happy Together - Remastered   \n",
       "3                AR              unknown                           Demons   \n",
       "4                AR              unknown                  Paint It, Black   \n",
       "...             ...                  ...                              ...   \n",
       "125344           AR              unknown  Gente Que No Sabe Lo Que Quiere   \n",
       "125345           AR              unknown                           11 Y 6   \n",
       "125346           AR              unknown                          Mientes   \n",
       "125347           AR              unknown                  Apostar al Amor   \n",
       "125348           AR              unknown                        El Palomo   \n",
       "\n",
       "       master_metadata_album_artist_name  \\\n",
       "0                            The Beatles   \n",
       "1                             La Franela   \n",
       "2                            The Turtles   \n",
       "3                        Imagine Dragons   \n",
       "4                     The Rolling Stones   \n",
       "...                                  ...   \n",
       "125344                      Litto Nebbia   \n",
       "125345                         Fito Paez   \n",
       "125346                     Charly García   \n",
       "125347                       Los Tipitos   \n",
       "125348                    Kevin Johansen   \n",
       "\n",
       "                         master_metadata_album_album_name  \\\n",
       "0                                                       1   \n",
       "1                                         Hacer Un Puente   \n",
       "2                                         All the Singles   \n",
       "3                                           Night Visions   \n",
       "4                                               Aftermath   \n",
       "...                                                   ...   \n",
       "125344          Solo Se Trata de Vivir / Solopiano Vol. 1   \n",
       "125345                                              Giros   \n",
       "125346                                            Tango 4   \n",
       "125347                                               Push   \n",
       "125348  Kevin Johansen + The Nada + Liniers: Vivo En B...   \n",
       "\n",
       "                           spotify_track_uri episode_name episode_show_name  \\\n",
       "0       spotify:track:0aym2LBJBk9DAYuHHutrIl          NaN               NaN   \n",
       "1       spotify:track:18Q3WTfyWX1tdS1cp42NhA          NaN               NaN   \n",
       "2       spotify:track:2admbUc576sC6M0QeUkg2C          NaN               NaN   \n",
       "3       spotify:track:5qaEfEh1AtSdrdrByCP7qR          NaN               NaN   \n",
       "4       spotify:track:63T7DJ1AFDD6Bn8VzG6JE8          NaN               NaN   \n",
       "...                                      ...          ...               ...   \n",
       "125344  spotify:track:3u8sP95YHOsYwRQfms6kgc          NaN               NaN   \n",
       "125345  spotify:track:2PkTjm1QAJCZbJ9MqC4RqA          NaN               NaN   \n",
       "125346  spotify:track:670dXRMKr9vVtGk01dYeSr          NaN               NaN   \n",
       "125347  spotify:track:6PyBNCpOX5uOjKDNjNNgjq          NaN               NaN   \n",
       "125348  spotify:track:5773XHHdECHO8d5BMWjtIS          NaN               NaN   \n",
       "\n",
       "       spotify_episode_uri reason_start reason_end  shuffle skipped  offline  \\\n",
       "0                      NaN    trackdone     fwdbtn     True     NaN    False   \n",
       "1                      NaN       fwdbtn     fwdbtn     True     NaN    False   \n",
       "2                      NaN       fwdbtn     fwdbtn     True     NaN    False   \n",
       "3                      NaN       fwdbtn     fwdbtn     True     NaN    False   \n",
       "4                      NaN       fwdbtn     fwdbtn     True     NaN    False   \n",
       "...                    ...          ...        ...      ...     ...      ...   \n",
       "125344                 NaN       fwdbtn     fwdbtn    False     NaN    False   \n",
       "125345                 NaN       fwdbtn     fwdbtn    False     NaN    False   \n",
       "125346                 NaN       fwdbtn     fwdbtn    False     NaN    False   \n",
       "125347                 NaN       fwdbtn     fwdbtn    False     NaN    False   \n",
       "125348                 NaN       fwdbtn     fwdbtn    False     NaN    False   \n",
       "\n",
       "        offline_timestamp  is_podcast  \n",
       "0           1607222710755       False  \n",
       "1           1607223071185       False  \n",
       "2           1607223210387       False  \n",
       "3           1607223233165       False  \n",
       "4           1607223236453       False  \n",
       "...                   ...         ...  \n",
       "125344      1538779491211       False  \n",
       "125345      1538779492740       False  \n",
       "125346      1538779494205       False  \n",
       "125347      1538779495059       False  \n",
       "125348      1538779496312       False  \n",
       "\n",
       "[125349 rows x 20 columns]"
      ]
     },
     "execution_count": 6,
     "metadata": {},
     "output_type": "execute_result"
    }
   ],
   "source": [
    "# archivo = \"https://raw.githubusercontent.com/IgnacioPardo/Tecnologias_Exponenciales_2024/main/TP_Spotify/StreamingHistory_Extended.csv\"\n",
    "archivo = \"StreamingHistory_Extended.csv\"\n",
    "spoty : pd.DataFrame = pd.read_csv(archivo)\n",
    "spoty"
   ]
  },
  {
   "cell_type": "code",
   "execution_count": 29,
   "metadata": {},
   "outputs": [
    {
     "name": "stdout",
     "output_type": "stream",
     "text": [
      "<class 'pandas.core.frame.DataFrame'>\n",
      "RangeIndex: 125349 entries, 0 to 125348\n",
      "Data columns (total 20 columns):\n",
      " #   Column                             Non-Null Count   Dtype \n",
      "---  ------                             --------------   ----- \n",
      " 0   ts                                 125349 non-null  object\n",
      " 1   username                           125349 non-null  int64 \n",
      " 2   platform                           125349 non-null  object\n",
      " 3   ms_played                          125349 non-null  int64 \n",
      " 4   conn_country                       125349 non-null  object\n",
      " 5   user_agent_decrypted               104897 non-null  object\n",
      " 6   master_metadata_track_name         123953 non-null  object\n",
      " 7   master_metadata_album_artist_name  123953 non-null  object\n",
      " 8   master_metadata_album_album_name   123953 non-null  object\n",
      " 9   spotify_track_uri                  123953 non-null  object\n",
      " 10  episode_name                       168 non-null     object\n",
      " 11  episode_show_name                  168 non-null     object\n",
      " 12  spotify_episode_uri                168 non-null     object\n",
      " 13  reason_start                       125344 non-null  object\n",
      " 14  reason_end                         105739 non-null  object\n",
      " 15  shuffle                            125349 non-null  bool  \n",
      " 16  skipped                            16354 non-null   object\n",
      " 17  offline                            125349 non-null  bool  \n",
      " 18  offline_timestamp                  125349 non-null  int64 \n",
      " 19  is_podcast                         125349 non-null  bool  \n",
      "dtypes: bool(3), int64(3), object(14)\n",
      "memory usage: 16.6+ MB\n"
     ]
    }
   ],
   "source": [
    "#  1.\n",
    "# ¿Que información contiene el dataset? Describir las columnas y los tipos de datos.\n",
    "# Pista: ¿Son todas las columnas necesarias para el análisis? ¿Son todos los registros del mismo tipo?\n",
    "\n",
    "spoty.info()\n",
    "\n",
    "# spoty.columns"
   ]
  },
  {
   "cell_type": "code",
   "execution_count": 23,
   "metadata": {},
   "outputs": [
    {
     "name": "stdout",
     "output_type": "stream",
     "text": [
      "Se registran reproducciones desde 2014-06-27 18:01:15+00:00 hasta 2024-05-23 23:56:20+00:00\n"
     ]
    }
   ],
   "source": [
    "#  2.\n",
    "# ¿A partir de que fecha se registraron las reproducciones? ¿Hasta que fecha?\n",
    "\n",
    "fecha_rep = pd.to_datetime( spoty[\"ts\"] )\n",
    "\n",
    "print(\"Se registran reproducciones desde\", fecha_rep.min() , \"hasta\", fecha_rep.max())\n",
    "\n"
   ]
  },
  {
   "cell_type": "code",
   "execution_count": 31,
   "metadata": {},
   "outputs": [
    {
     "data": {
      "text/plain": [
       "11556"
      ]
     },
     "execution_count": 31,
     "metadata": {},
     "output_type": "execute_result"
    }
   ],
   "source": [
    "#  3.\n",
    "# ¿Cuántas canciones diferentes se escucharon en total?\n",
    "\n",
    "nombre_group = spoty.groupby(\"spotify_track_uri\")\n",
    "\n",
    "len (nombre_group)\n"
   ]
  },
  {
   "cell_type": "code",
   "execution_count": 14,
   "metadata": {},
   "outputs": [
    {
     "data": {
      "text/plain": [
       "spotify_track_uri\n",
       "spotify:track:001b8XFtRhhFrMbWROVgO4    5.142217\n",
       "spotify:track:008YILXYfsMa2KuPY8bBtl    2.832267\n",
       "spotify:track:009s8MccQSXM4pAQwsP59s    0.072883\n",
       "spotify:track:00DiMUseXsW3L8eR8G8xOa    0.034633\n",
       "spotify:track:00GOPLxW4PGQuUYdPJh8K1    3.023433\n",
       "                                          ...   \n",
       "spotify:track:7zoQhAYWNKRyARI7xPnJW1    0.566583\n",
       "spotify:track:7zrpoAJte9o12TzawqgdD0    0.007933\n",
       "spotify:track:7zsgBOY20sX0Z8L4RTdU3Y    0.611650\n",
       "spotify:track:7zvKFw17XyoBUx9mHiwzPy    5.505983\n",
       "spotify:track:7zx1i0jGcFwMBurajgKlO7    0.040883\n",
       "Name: ms_played, Length: 11556, dtype: float64"
      ]
     },
     "execution_count": 14,
     "metadata": {},
     "output_type": "execute_result"
    }
   ],
   "source": [
    "#  4.\n",
    "# ¿Cuánto es la duración total de las reproducciones de canciones registradas?\n",
    "# Pista: ¿Alguna columna del dataset indica la duración de la reproducción?\n",
    "\n",
    "nombre_group = spoty.groupby(\"spotify_track_uri\")\n",
    "T_rep =  nombre_group['ms_played'].sum()/60000\n",
    "T_rep"
   ]
  },
  {
   "cell_type": "code",
   "execution_count": 37,
   "metadata": {},
   "outputs": [
    {
     "data": {
      "text/plain": [
       "'Charly García'"
      ]
     },
     "execution_count": 37,
     "metadata": {},
     "output_type": "execute_result"
    }
   ],
   "source": [
    "#  5. \n",
    "# ¿Cuál es el artista más escuchado por tiempo total de reproducción?\n",
    "\n",
    "art_group = spoty.groupby ('master_metadata_album_artist_name')\n",
    "T_art_group = art_group['ms_played'].sum().sort_values (ascending=False).head(1)\n",
    "T_art_group.index[0]"
   ]
  },
  {
   "cell_type": "code",
   "execution_count": 69,
   "metadata": {},
   "outputs": [
    {
     "name": "stderr",
     "output_type": "stream",
     "text": [
      "C:\\Users\\Usuario\\AppData\\Local\\Temp\\ipykernel_22080\\737826444.py:11: FutureWarning: The provided callable <built-in function sum> is currently using SeriesGroupBy.sum. In a future version of pandas, the provided callable will be used directly. To keep current behavior pass the string \"sum\" instead.\n",
      "  grouped = spoty.groupby('spotify_track_uri').agg({'ms_played': sum,'master_metadata_track_name': 'unique', 'master_metadata_album_artist_name' : 'unique'})\n"
     ]
    },
    {
     "data": {
      "text/html": [
       "<div>\n",
       "<style scoped>\n",
       "    .dataframe tbody tr th:only-of-type {\n",
       "        vertical-align: middle;\n",
       "    }\n",
       "\n",
       "    .dataframe tbody tr th {\n",
       "        vertical-align: top;\n",
       "    }\n",
       "\n",
       "    .dataframe thead th {\n",
       "        text-align: right;\n",
       "    }\n",
       "</style>\n",
       "<table border=\"1\" class=\"dataframe\">\n",
       "  <thead>\n",
       "    <tr style=\"text-align: right;\">\n",
       "      <th></th>\n",
       "      <th>ms_played</th>\n",
       "      <th>master_metadata_track_name</th>\n",
       "      <th>master_metadata_album_artist_name</th>\n",
       "    </tr>\n",
       "    <tr>\n",
       "      <th>spotify_track_uri</th>\n",
       "      <th></th>\n",
       "      <th></th>\n",
       "      <th></th>\n",
       "    </tr>\n",
       "  </thead>\n",
       "  <tbody>\n",
       "    <tr>\n",
       "      <th>spotify:track:0wXuerDYiBnERgIpbb3JBR</th>\n",
       "      <td>56637046</td>\n",
       "      <td>[Redbone]</td>\n",
       "      <td>[Childish Gambino]</td>\n",
       "    </tr>\n",
       "  </tbody>\n",
       "</table>\n",
       "</div>"
      ],
      "text/plain": [
       "                                      ms_played master_metadata_track_name  \\\n",
       "spotify_track_uri                                                            \n",
       "spotify:track:0wXuerDYiBnERgIpbb3JBR   56637046                  [Redbone]   \n",
       "\n",
       "                                     master_metadata_album_artist_name  \n",
       "spotify_track_uri                                                       \n",
       "spotify:track:0wXuerDYiBnERgIpbb3JBR                [Childish Gambino]  "
      ]
     },
     "metadata": {},
     "output_type": "display_data"
    }
   ],
   "source": [
    "#  6.\n",
    "# ¿Cuál es la canción más escuchada por tiempo total de reproducción?\n",
    "\n",
    "#can_group = spoty [['master_metadata_album_artist_name','ms_played', 'master_metadata_track_name', 'spotify_track_uri']]\n",
    "\n",
    "can_group = spoty.groupby('spotify_track_uri').agg({'ms_played': 'sum','master_metadata_track_name': 'unique', 'master_metadata_album_artist_name' : 'unique'})\n",
    "\n",
    "display (can_group.sort_values(by= 'ms_played', ascending=False).head(1))\n"
   ]
  },
  {
   "cell_type": "code",
   "execution_count": 36,
   "metadata": {},
   "outputs": [
    {
     "name": "stdout",
     "output_type": "stream",
     "text": [
      "La canción más escuchada del artista más escuchado ( Charly García ) es master_metadata_track_name\n",
      "Hablando a Tu Corazón    31405810\n",
      "Name: ms_played, dtype: int64\n"
     ]
    }
   ],
   "source": [
    "#  7.\n",
    "# Del artista más escuchado (por tiempo reproducido), ¿cuál es la canción más escuchada?\n",
    "\n",
    "art_group = spoty.groupby ('master_metadata_album_artist_name')['ms_played'].sum().sort_values (ascending=False).head(1)\n",
    "\n",
    "art_mas_escuchado = art_group.index[0]\n",
    "\n",
    "canciones_artista = spoty[spoty['master_metadata_album_artist_name'] == art_mas_escuchado]\n",
    "\n",
    "cancion_mas_escuchada = canciones_artista.groupby('master_metadata_track_name')['ms_played'].sum().sort_values(ascending=False).head(1)\n",
    "\n",
    "print (\"La canción más escuchada del artista más escuchado (\",art_mas_escuchado,\") es\",cancion_mas_escuchada.index[0])\n",
    "\n"
   ]
  },
  {
   "cell_type": "code",
   "execution_count": 23,
   "metadata": {},
   "outputs": [
    {
     "data": {
      "image/png": "[encoded data removed]",
      "text/plain": [
       "<Figure size 640x480 with 1 Axes>"
      ]
     },
     "metadata": {},
     "output_type": "display_data"
    }
   ],
   "source": [
    "#  8.\n",
    "# Determinar el top 10 de artistas más escuchados . Elegir un tipo de gráfico adecuado para visualizar los resultados.\n",
    "\n",
    "art_group = spoty.groupby ('master_metadata_album_artist_name')['ms_played'].sum()/3600000\n",
    "\n",
    "art_group_top = art_group.sort_values(ascending=False).head(10)\n",
    "\n",
    "my_plot = art_group_top.plot(kind='bar').set_ylabel('horas escuchadas')\n",
    "\n"
   ]
  },
  {
   "cell_type": "code",
   "execution_count": 25,
   "metadata": {},
   "outputs": [
    {
     "data": {
      "image/png": "[encoded data removed]",
      "text/plain": [
       "<Figure size 640x480 with 1 Axes>"
      ]
     },
     "metadata": {},
     "output_type": "display_data"
    }
   ],
   "source": [
    "#  9.\n",
    "# Determinar el top 10 de canciones más escuchadas. Elegir un tipo de gráfico adecuado para visualizar los resultados.\n",
    "\n",
    "can_group = spoty.groupby('spotify_track_uri').agg({'ms_played': 'sum','master_metadata_track_name': 'unique', 'master_metadata_album_artist_name' : 'unique'})\n",
    "\n",
    "top_10 = can_group.sort_values(by= 'ms_played', ascending=False).head(10)\n",
    "\n",
    "my_plot = top_10.plot(kind='bar', x='master_metadata_track_name', xlabel='canciones mas escuchadas', y='ms_played')\n"
   ]
  },
  {
   "cell_type": "markdown",
   "metadata": {},
   "source": [
    "# Ademas, se deben plantear al menos 3 preguntas adicionales y responderlas utilizando el dataset."
   ]
  },
  {
   "cell_type": "code",
   "execution_count": 22,
   "metadata": {},
   "outputs": [
    {
     "data": {
      "image/png": "[encoded data removed]",
      "text/plain": [
       "<Figure size 640x480 with 1 Axes>"
      ]
     },
     "metadata": {},
     "output_type": "display_data"
    }
   ],
   "source": [
    "#  Ejercicio propio 1 - top 3 de albums mas escuchados y graficarlos:\n",
    "\n",
    "album_group = spoty.groupby('master_metadata_album_album_name')['ms_played'].sum()/3600000\n",
    "\n",
    "top_3_album = album_group.sort_values(ascending=False).head(3)\n",
    "\n",
    "plot = top_3_album.plot(kind='bar',xlabel='Albumes más escuchados',ylabel='Horas escuchadas')\n"
   ]
  },
  {
   "cell_type": "code",
   "execution_count": 28,
   "metadata": {},
   "outputs": [
    {
     "data": {
      "text/plain": [
       "platform\n",
       "iOS 11.0 (iPhone8,1)    699.431412\n",
       "Name: ms_played, dtype: float64"
      ]
     },
     "execution_count": 28,
     "metadata": {},
     "output_type": "execute_result"
    }
   ],
   "source": [
    "#  ejercicio propio 2 - en que dispositivo se escucho mas canciones \n",
    "\n",
    "plat_esc = spoty.groupby('platform')['ms_played'].sum()/3600000\n",
    "\n",
    "plat_esc.sort_values(ascending=False).head(1)\n"
   ]
  },
  {
   "cell_type": "code",
   "execution_count": 54,
   "metadata": {},
   "outputs": [
    {
     "name": "stdout",
     "output_type": "stream",
     "text": [
      "Al artista más escuchado ( Charly García ) se lo escuchó 4922.073016666666 minutos\n"
     ]
    }
   ],
   "source": [
    "#  ejercicio propio 3 - cuantos minutos se escucho al artista mas escuchado\n",
    "\n",
    "art_group = spoty.groupby ('master_metadata_album_artist_name')['ms_played'].sum()/60000\n",
    "art_mas_esc = art_group.sort_values (ascending=False).head(1)\n",
    "\n",
    "#T_art_mas_esc= spoty[spoty['master_metadata_album_artist_name'] == art_mas_esc]\n",
    "\n",
    "print(\"Al artista más escuchado (\",art_mas_esc.index[0],\") se lo escuchó\", art_mas_esc.values[0],\"minutos\")\n"
   ]
  },
  {
   "cell_type": "code",
   "execution_count": null,
   "metadata": {},
   "outputs": [],
   "source": []
  }
 ],
 "metadata": {
  "kernelspec": {
   "display_name": "Python 3",
   "language": "python",
   "name": "python3"
  },
  "language_info": {
   "codemirror_mode": {
    "name": "ipython",
    "version": 3
   },
   "file_extension": ".py",
   "mimetype": "text/x-python",
   "name": "python",
   "nbconvert_exporter": "python",
   "pygments_lexer": "ipython3",
   "version": "3.10.0"
  }
 },
 "nbformat": 4,
 "nbformat_minor": 2
}
