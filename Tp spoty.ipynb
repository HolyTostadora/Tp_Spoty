{
 "cells": [
  {
   "cell_type": "code",
   "execution_count": null,
   "metadata": {},
   "outputs": [],
   "source": [
    "%pip install pandas\n",
    "%pip install matplotlib\n"
   ]
  },
  {
   "cell_type": "code",
   "execution_count": null,
   "metadata": {},
   "outputs": [],
   "source": [
    "import pandas as pd\n",
    "import matplotlib.pyplot as plt"
   ]
  },
  {
   "cell_type": "code",
   "execution_count": null,
   "metadata": {},
   "outputs": [],
   "source": [
    "# archivo = \"https://raw.githubusercontent.com/IgnacioPardo/Tecnologias_Exponenciales_2024/main/TP_Spotify/StreamingHistory_Extended.csv\"\n",
    "archivo = \"StreamingHistory_Extended.csv\"\n",
    "spoty : pd.DataFrame = pd.read_csv(archivo)\n",
    "spoty"
   ]
  },
  {
   "cell_type": "code",
   "execution_count": null,
   "metadata": {},
   "outputs": [],
   "source": [
    "#  1.\n",
    "# ¿Que información contiene el dataset? Describir las columnas y los tipos de datos.\n",
    "# Pista: ¿Son todas las columnas necesarias para el análisis? ¿Son todos los registros del mismo tipo?\n"
   ]
  },
  {
   "cell_type": "code",
   "execution_count": null,
   "metadata": {},
   "outputs": [],
   "source": [
    "#  2.\n",
    "# ¿A partir de que fecha se registraron las reproducciones? ¿Hasta que fecha?"
   ]
  },
  {
   "cell_type": "code",
   "execution_count": null,
   "metadata": {},
   "outputs": [],
   "source": [
    "#  3.\n",
    "# ¿Cuántas canciones diferentes se escucharon en total?"
   ]
  },
  {
   "cell_type": "code",
   "execution_count": null,
   "metadata": {},
   "outputs": [],
   "source": [
    "#  4.\n",
    "# ¿Cuánto es la duración total de las reproducciones de canciones registradas?\n",
    "# Pista: ¿Alguna columna del dataset indica la duración de la reproducción?"
   ]
  },
  {
   "cell_type": "code",
   "execution_count": null,
   "metadata": {},
   "outputs": [],
   "source": [
    "#  5. \n",
    "# ¿Cuál es el artista más escuchado por tiempo total de reproducción?\n"
   ]
  },
  {
   "cell_type": "code",
   "execution_count": null,
   "metadata": {},
   "outputs": [],
   "source": [
    "#  6.\n",
    "# ¿Cuál es la canción más escuchada por tiempo total de reproducción?"
   ]
  },
  {
   "cell_type": "code",
   "execution_count": null,
   "metadata": {},
   "outputs": [],
   "source": [
    "#  7.\n",
    "# Del artista más escuchado (por tiempo reproducido), ¿cuál es la canción más escuchada?"
   ]
  },
  {
   "cell_type": "code",
   "execution_count": 8,
   "metadata": {},
   "outputs": [],
   "source": [
    "#  8.\n",
    "# Determinar el top 10 de artistas más escuchados . Elegir un tipo de gráfico adecuado para visualizar los resultados."
   ]
  },
  {
   "cell_type": "code",
   "execution_count": null,
   "metadata": {},
   "outputs": [],
   "source": [
    "#  9.\n",
    "# Determinar el top 10 de canciones más escuchadas. Elegir un tipo de gráfico adecuado para visualizar los resultados."
   ]
  },
  {
   "cell_type": "code",
   "execution_count": null,
   "metadata": {},
   "outputs": [],
   "source": [
    "# Ademas, se deben plantear al menos 3 preguntas adicionales y responderlas utilizando el dataset."
   ]
  }
 ],
 "metadata": {
  "kernelspec": {
   "display_name": "Python 3",
   "language": "python",
   "name": "python3"
  },
  "language_info": {
   "codemirror_mode": {
    "name": "ipython",
    "version": 3
   },
   "file_extension": ".py",
   "mimetype": "text/x-python",
   "name": "python",
   "nbconvert_exporter": "python",
   "pygments_lexer": "ipython3",
   "version": "3.10.0"
  }
 },
 "nbformat": 4,
 "nbformat_minor": 2
}
